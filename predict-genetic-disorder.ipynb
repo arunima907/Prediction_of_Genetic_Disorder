{
 "cells": [
  {
   "cell_type": "code",
   "execution_count": 1,
   "id": "0aa866a7",
   "metadata": {
    "execution": {
     "iopub.execute_input": "2021-11-30T13:29:12.466552Z",
     "iopub.status.busy": "2021-11-30T13:29:12.465083Z",
     "iopub.status.idle": "2021-11-30T13:29:15.220924Z",
     "shell.execute_reply": "2021-11-30T13:29:15.221656Z",
     "shell.execute_reply.started": "2021-11-30T12:29:11.097433Z"
    },
    "papermill": {
     "duration": 2.843913,
     "end_time": "2021-11-30T13:29:15.222027",
     "exception": false,
     "start_time": "2021-11-30T13:29:12.378114",
     "status": "completed"
    },
    "tags": []
   },
   "outputs": [
    {
     "data": {
      "text/html": [
       "<style type='text/css'>\n",
       ".datatable table.frame { margin-bottom: 0; }\n",
       ".datatable table.frame thead { border-bottom: none; }\n",
       ".datatable table.frame tr.coltypes td {  color: #FFFFFF;  line-height: 6px;  padding: 0 0.5em;}\n",
       ".datatable .bool    { background: #DDDD99; }\n",
       ".datatable .object  { background: #565656; }\n",
       ".datatable .int     { background: #5D9E5D; }\n",
       ".datatable .float   { background: #4040CC; }\n",
       ".datatable .str     { background: #CC4040; }\n",
       ".datatable .time    { background: #40CC40; }\n",
       ".datatable .row_index {  background: var(--jp-border-color3);  border-right: 1px solid var(--jp-border-color0);  color: var(--jp-ui-font-color3);  font-size: 9px;}\n",
       ".datatable .frame tbody td { text-align: left; }\n",
       ".datatable .frame tr.coltypes .row_index {  background: var(--jp-border-color0);}\n",
       ".datatable th:nth-child(2) { padding-left: 12px; }\n",
       ".datatable .hellipsis {  color: var(--jp-cell-editor-border-color);}\n",
       ".datatable .vellipsis {  background: var(--jp-layout-color0);  color: var(--jp-cell-editor-border-color);}\n",
       ".datatable .na {  color: var(--jp-cell-editor-border-color);  font-size: 80%;}\n",
       ".datatable .sp {  opacity: 0.25;}\n",
       ".datatable .footer { font-size: 9px; }\n",
       ".datatable .frame_dimensions {  background: var(--jp-border-color3);  border-top: 1px solid var(--jp-border-color0);  color: var(--jp-ui-font-color3);  display: inline-block;  opacity: 0.6;  padding: 1px 10px 1px 5px;}\n",
       "</style>\n"
      ],
      "text/plain": [
       "<IPython.core.display.HTML object>"
      ]
     },
     "metadata": {},
     "output_type": "display_data"
    }
   ],
   "source": [
    "# importing the libraries\n",
    "import numpy as np\n",
    "import pandas as pd\n",
    "import matplotlib.pyplot as plt\n",
    "import seaborn as sns\n",
    "from sklearn.model_selection import train_test_split\n",
    "from sklearn.impute import SimpleImputer\n",
    "from sklearn.preprocessing import OrdinalEncoder,OneHotEncoder,LabelEncoder,MinMaxScaler\n",
    "from imblearn.over_sampling import BorderlineSMOTE\n",
    "from sklearn.feature_selection import SelectKBest,chi2\n",
    "from sklearn.metrics import f1_score\n",
    "from sklearn.model_selection import RandomizedSearchCV,GridSearchCV\n",
    "from sklearn.calibration import CalibratedClassifierCV\n",
    "from sklearn.linear_model import LogisticRegression\n",
    "from sklearn.neighbors import KNeighborsClassifier\n",
    "from sklearn.ensemble import RandomForestClassifier,GradientBoostingClassifier\n",
    "from sklearn.tree import DecisionTreeClassifier\n",
    "from xgboost import XGBClassifier\n",
    "from lightgbm import LGBMClassifier"
   ]
  },
  {
   "cell_type": "code",
   "execution_count": 2,
   "id": "2833c66c",
   "metadata": {
    "execution": {
     "iopub.execute_input": "2021-11-30T13:29:15.388552Z",
     "iopub.status.busy": "2021-11-30T13:29:15.387824Z",
     "iopub.status.idle": "2021-11-30T13:29:15.765057Z",
     "shell.execute_reply": "2021-11-30T13:29:15.764282Z",
     "shell.execute_reply.started": "2021-11-30T12:31:34.925719Z"
    },
    "papermill": {
     "duration": 0.460866,
     "end_time": "2021-11-30T13:29:15.765222",
     "exception": false,
     "start_time": "2021-11-30T13:29:15.304356",
     "status": "completed"
    },
    "tags": []
   },
   "outputs": [],
   "source": [
    "#loading the datset\n",
    "train=pd.read_csv('../input/predict-the-genetic-disorders-datasetof-genomes/train_genetic_disorders.csv')\n",
    "test=pd.read_csv('../input/predict-the-genetic-disorders-datasetof-genomes/test_genetic_disorders.csv')\n",
    "data_train=train.copy()\n",
    "data_test=test.copy()"
   ]
  },
  {
   "cell_type": "code",
   "execution_count": 3,
   "id": "0cfc7aa2",
   "metadata": {
    "execution": {
     "iopub.execute_input": "2021-11-30T13:29:16.005097Z",
     "iopub.status.busy": "2021-11-30T13:29:16.003936Z",
     "iopub.status.idle": "2021-11-30T13:29:16.128019Z",
     "shell.execute_reply": "2021-11-30T13:29:16.127094Z",
     "shell.execute_reply.started": "2021-11-30T12:31:41.290409Z"
    },
    "papermill": {
     "duration": 0.216122,
     "end_time": "2021-11-30T13:29:16.128257",
     "exception": false,
     "start_time": "2021-11-30T13:29:15.912135",
     "status": "completed"
    },
    "tags": []
   },
   "outputs": [
    {
     "name": "stdout",
     "output_type": "stream",
     "text": [
      "Null rows_train: 1072\n"
     ]
    }
   ],
   "source": [
    "#check all null rows\n",
    "data_train[data_train.isnull().all(1)].shape\n",
    "print(\"Null rows_train:\",data_train[data_train.isnull().all(1)].shape[0])"
   ]
  },
  {
   "cell_type": "code",
   "execution_count": 4,
   "id": "b30f8955",
   "metadata": {
    "execution": {
     "iopub.execute_input": "2021-11-30T13:29:16.332979Z",
     "iopub.status.busy": "2021-11-30T13:29:16.331814Z",
     "iopub.status.idle": "2021-11-30T13:29:16.366592Z",
     "shell.execute_reply": "2021-11-30T13:29:16.365498Z",
     "shell.execute_reply.started": "2021-11-30T12:31:52.219688Z"
    },
    "papermill": {
     "duration": 0.14919,
     "end_time": "2021-11-30T13:29:16.366754",
     "exception": false,
     "start_time": "2021-11-30T13:29:16.217564",
     "status": "completed"
    },
    "tags": []
   },
   "outputs": [
    {
     "name": "stdout",
     "output_type": "stream",
     "text": [
      "Null rows_test: 173\n"
     ]
    }
   ],
   "source": [
    "#check all null rows\n",
    "data_test[data_test.isnull().all(1)].shape\n",
    "print(\"Null rows_test:\",data_test[data_test.isnull().all(1)].shape[0])"
   ]
  },
  {
   "cell_type": "code",
   "execution_count": 5,
   "id": "8f522b2e",
   "metadata": {
    "execution": {
     "iopub.execute_input": "2021-11-30T13:29:16.589199Z",
     "iopub.status.busy": "2021-11-30T13:29:16.588369Z",
     "iopub.status.idle": "2021-11-30T13:29:16.602138Z",
     "shell.execute_reply": "2021-11-30T13:29:16.601037Z",
     "shell.execute_reply.started": "2021-11-30T12:31:54.924633Z"
    },
    "papermill": {
     "duration": 0.15291,
     "end_time": "2021-11-30T13:29:16.602303",
     "exception": false,
     "start_time": "2021-11-30T13:29:16.449393",
     "status": "completed"
    },
    "tags": []
   },
   "outputs": [],
   "source": [
    "#subset where no all rows being null\n",
    "data_fea_train=data_train[data_train.isnull().all(1)!=True]"
   ]
  },
  {
   "cell_type": "code",
   "execution_count": 6,
   "id": "93940e82",
   "metadata": {
    "execution": {
     "iopub.execute_input": "2021-11-30T13:29:16.774753Z",
     "iopub.status.busy": "2021-11-30T13:29:16.773383Z",
     "iopub.status.idle": "2021-11-30T13:29:16.777605Z",
     "shell.execute_reply": "2021-11-30T13:29:16.778198Z",
     "shell.execute_reply.started": "2021-11-30T12:31:56.378124Z"
    },
    "papermill": {
     "duration": 0.095664,
     "end_time": "2021-11-30T13:29:16.778408",
     "exception": false,
     "start_time": "2021-11-30T13:29:16.682744",
     "status": "completed"
    },
    "tags": []
   },
   "outputs": [
    {
     "data": {
      "text/plain": [
       "(21011, 45)"
      ]
     },
     "execution_count": 6,
     "metadata": {},
     "output_type": "execute_result"
    }
   ],
   "source": [
    "#shape of train after removing null rows\n",
    "data_fea_train.shape"
   ]
  },
  {
   "cell_type": "code",
   "execution_count": 7,
   "id": "a522d032",
   "metadata": {
    "execution": {
     "iopub.execute_input": "2021-11-30T13:29:16.947639Z",
     "iopub.status.busy": "2021-11-30T13:29:16.946938Z",
     "iopub.status.idle": "2021-11-30T13:29:16.984180Z",
     "shell.execute_reply": "2021-11-30T13:29:16.983549Z",
     "shell.execute_reply.started": "2021-11-30T12:31:58.549204Z"
    },
    "papermill": {
     "duration": 0.122281,
     "end_time": "2021-11-30T13:29:16.984345",
     "exception": false,
     "start_time": "2021-11-30T13:29:16.862064",
     "status": "completed"
    },
    "tags": []
   },
   "outputs": [],
   "source": [
    "#subset where no all rows being null\n",
    "data_fea_test=data_test[data_test.isnull().all(1)!=True]"
   ]
  },
  {
   "cell_type": "code",
   "execution_count": 8,
   "id": "c166c63b",
   "metadata": {
    "execution": {
     "iopub.execute_input": "2021-11-30T13:29:17.153146Z",
     "iopub.status.busy": "2021-11-30T13:29:17.152381Z",
     "iopub.status.idle": "2021-11-30T13:29:17.174080Z",
     "shell.execute_reply": "2021-11-30T13:29:17.174818Z",
     "shell.execute_reply.started": "2021-11-30T12:32:01.913303Z"
    },
    "papermill": {
     "duration": 0.108862,
     "end_time": "2021-11-30T13:29:17.175057",
     "exception": false,
     "start_time": "2021-11-30T13:29:17.066195",
     "status": "completed"
    },
    "tags": []
   },
   "outputs": [],
   "source": [
    "# Dropping the features\n",
    "data_fea_train=data_fea_train.drop(columns=['Patient Id','Patient First Name','Family Name','Father\\'s name','Institute Name','Location of Institute','Test 1','Test 2','Test 3','Test 4',\n",
    "'Test 5','Parental consent'])\n",
    "data_fea_test=data_fea_test.drop(columns=['Patient Id','Patient First Name','Family Name','Father\\'s name','Institute Name','Location of Institute','Test 1','Test 2','Test 3','Test 4',\n",
    "'Test 5','Parental consent'])"
   ]
  },
  {
   "cell_type": "code",
   "execution_count": 9,
   "id": "246026a6",
   "metadata": {
    "execution": {
     "iopub.execute_input": "2021-11-30T13:29:17.344443Z",
     "iopub.status.busy": "2021-11-30T13:29:17.343725Z",
     "iopub.status.idle": "2021-11-30T13:29:17.350858Z",
     "shell.execute_reply": "2021-11-30T13:29:17.349896Z",
     "shell.execute_reply.started": "2021-11-30T12:32:02.765994Z"
    },
    "papermill": {
     "duration": 0.093398,
     "end_time": "2021-11-30T13:29:17.351086",
     "exception": false,
     "start_time": "2021-11-30T13:29:17.257688",
     "status": "completed"
    },
    "tags": []
   },
   "outputs": [
    {
     "name": "stdout",
     "output_type": "stream",
     "text": [
      "(21011, 33) (9290, 31)\n"
     ]
    }
   ],
   "source": [
    "print(data_fea_train.shape,data_fea_test.shape)"
   ]
  },
  {
   "cell_type": "code",
   "execution_count": 10,
   "id": "fbde6efa",
   "metadata": {
    "execution": {
     "iopub.execute_input": "2021-11-30T13:29:17.520849Z",
     "iopub.status.busy": "2021-11-30T13:29:17.519549Z",
     "iopub.status.idle": "2021-11-30T13:29:17.538153Z",
     "shell.execute_reply": "2021-11-30T13:29:17.537472Z",
     "shell.execute_reply.started": "2021-11-30T12:32:04.940871Z"
    },
    "papermill": {
     "duration": 0.104174,
     "end_time": "2021-11-30T13:29:17.538324",
     "exception": false,
     "start_time": "2021-11-30T13:29:17.434150",
     "status": "completed"
    },
    "tags": []
   },
   "outputs": [],
   "source": [
    "# renaming the columns\n",
    "data_fea_train=data_fea_train.rename(columns={\"Genes in mother's side\":'defective_mother',\n",
    "                    'Inherited from father':'defective_father',\n",
    "                    'Maternal gene':'maternal_gene','Paternal gene':'paternal_gene',\n",
    "                    'Respiratory Rate (breaths/min)':'respiratory_rate','Heart Rate (rates/min':'heart_rate',\n",
    "                    'Parental consent':'parental_consent','Follow-up':'follow_up','Birth asphyxia':'birth_asphyxia',\n",
    "                    'Autopsy shows birth defect (if applicable)':'birth_defect_autopsy','Place of birth':'birth_place',\n",
    "                    'Folic acid details (peri-conceptional)':'folic_acid_periconceptional',\n",
    "                    'H/O serious maternal illness':'maternal_illness','H/O radiation exposure (x-ray)':'radiation_exposure',\n",
    "                    'H/O substance abuse':'substance_abuse','Assisted conception IVF/ART':'assisted_conception',\n",
    "                    'History of anomalies in previous pregnancies':'previous_pregnancy_anomalies',\n",
    "                    'Birth defects':'birth_defects','Blood test result':'blood_test_result','Genetic Disorder':'genetic_disorder',\n",
    "                    'Disorder Subclass':'disorder_subclass','Patient Age':'patient_age','Blood cell count (mcL)':'blood_cell_count',\n",
    "                    \"Mother's age\":'mother_age',\"Father's age\":'father_age','No. of previous abortion':'num_previous_abortion',\n",
    "                    'White Blood cell count (thousand per microliter)':'WBC_count'})"
   ]
  },
  {
   "cell_type": "code",
   "execution_count": 11,
   "id": "952456c1",
   "metadata": {
    "execution": {
     "iopub.execute_input": "2021-11-30T13:29:17.707566Z",
     "iopub.status.busy": "2021-11-30T13:29:17.706402Z",
     "iopub.status.idle": "2021-11-30T13:29:17.716241Z",
     "shell.execute_reply": "2021-11-30T13:29:17.716861Z",
     "shell.execute_reply.started": "2021-11-30T12:32:05.623198Z"
    },
    "papermill": {
     "duration": 0.096514,
     "end_time": "2021-11-30T13:29:17.717070",
     "exception": false,
     "start_time": "2021-11-30T13:29:17.620556",
     "status": "completed"
    },
    "tags": []
   },
   "outputs": [],
   "source": [
    "data_fea_test=data_fea_test.rename(columns={\"Genes in mother's side\":'defective_mother',\n",
    "                    'Inherited from father':'defective_father',\n",
    "                    'Maternal gene':'maternal_gene','Paternal gene':'paternal_gene',\n",
    "                    'Respiratory Rate (breaths/min)':'respiratory_rate','Heart Rate (rates/min':'heart_rate',\n",
    "                    'Parental consent':'parental_consent','Follow-up':'follow_up','Birth asphyxia':'birth_asphyxia',\n",
    "                    'Autopsy shows birth defect (if applicable)':'birth_defect_autopsy','Place of birth':'birth_place',\n",
    "                    'Folic acid details (peri-conceptional)':'folic_acid_periconceptional',\n",
    "                    'H/O serious maternal illness':'maternal_illness','H/O radiation exposure (x-ray)':'radiation_exposure',\n",
    "                    'H/O substance abuse':'substance_abuse','Assisted conception IVF/ART':'assisted_conception',\n",
    "                    'History of anomalies in previous pregnancies':'previous_pregnancy_anomalies',\n",
    "                    'Birth defects':'birth_defects','Blood test result':'blood_test_result','Genetic Disorder':'genetic_disorder',\n",
    "                    'Disorder Subclass':'disorder_subclass','Patient Age':'patient_age','Blood cell count (mcL)':'blood_cell_count',\n",
    "                    \"Mother's age\":'mother_age',\"Father's age\":'father_age','No. of previous abortion':'num_previous_abortion',\n",
    "                    'White Blood cell count (thousand per microliter)':'WBC_count'})"
   ]
  },
  {
   "cell_type": "code",
   "execution_count": 12,
   "id": "e8347a15",
   "metadata": {
    "execution": {
     "iopub.execute_input": "2021-11-30T13:29:17.884453Z",
     "iopub.status.busy": "2021-11-30T13:29:17.883705Z",
     "iopub.status.idle": "2021-11-30T13:29:17.895037Z",
     "shell.execute_reply": "2021-11-30T13:29:17.895671Z",
     "shell.execute_reply.started": "2021-11-30T12:32:06.858042Z"
    },
    "papermill": {
     "duration": 0.096127,
     "end_time": "2021-11-30T13:29:17.895889",
     "exception": false,
     "start_time": "2021-11-30T13:29:17.799762",
     "status": "completed"
    },
    "tags": []
   },
   "outputs": [
    {
     "data": {
      "text/plain": [
       "(2049, 2068)"
      ]
     },
     "execution_count": 12,
     "metadata": {},
     "output_type": "execute_result"
    }
   ],
   "source": [
    "# missing target variables\n",
    "data_fea_train.iloc[:,-2].isnull().sum(),data_fea_train.iloc[:,-1].isnull().sum()"
   ]
  },
  {
   "cell_type": "code",
   "execution_count": 13,
   "id": "67ad4c26",
   "metadata": {
    "execution": {
     "iopub.execute_input": "2021-11-30T13:29:18.064850Z",
     "iopub.status.busy": "2021-11-30T13:29:18.064109Z",
     "iopub.status.idle": "2021-11-30T13:29:18.080191Z",
     "shell.execute_reply": "2021-11-30T13:29:18.080832Z",
     "shell.execute_reply.started": "2021-11-30T12:32:08.132523Z"
    },
    "papermill": {
     "duration": 0.102581,
     "end_time": "2021-11-30T13:29:18.081041",
     "exception": false,
     "start_time": "2021-11-30T13:29:17.978460",
     "status": "completed"
    },
    "tags": []
   },
   "outputs": [],
   "source": [
    "# removing rows of missing target variables\n",
    "data_fea_train=data_fea_train[(data_fea_train['genetic_disorder'].isnull()!=True)&(data_fea_train['disorder_subclass'].isnull()!=True)]"
   ]
  },
  {
   "cell_type": "code",
   "execution_count": 14,
   "id": "1329e4b3",
   "metadata": {
    "execution": {
     "iopub.execute_input": "2021-11-30T13:29:18.253758Z",
     "iopub.status.busy": "2021-11-30T13:29:18.252729Z",
     "iopub.status.idle": "2021-11-30T13:29:18.255949Z",
     "shell.execute_reply": "2021-11-30T13:29:18.256648Z",
     "shell.execute_reply.started": "2021-11-30T12:32:10.276824Z"
    },
    "papermill": {
     "duration": 0.09353,
     "end_time": "2021-11-30T13:29:18.256859",
     "exception": false,
     "start_time": "2021-11-30T13:29:18.163329",
     "status": "completed"
    },
    "tags": []
   },
   "outputs": [
    {
     "data": {
      "text/plain": [
       "(17160, 33)"
      ]
     },
     "execution_count": 14,
     "metadata": {},
     "output_type": "execute_result"
    }
   ],
   "source": [
    "data_fea_train.shape"
   ]
  },
  {
   "cell_type": "code",
   "execution_count": 15,
   "id": "818e54cb",
   "metadata": {
    "execution": {
     "iopub.execute_input": "2021-11-30T13:29:18.430350Z",
     "iopub.status.busy": "2021-11-30T13:29:18.429617Z",
     "iopub.status.idle": "2021-11-30T13:29:18.436471Z",
     "shell.execute_reply": "2021-11-30T13:29:18.435723Z",
     "shell.execute_reply.started": "2021-11-30T12:32:11.036461Z"
    },
    "papermill": {
     "duration": 0.096293,
     "end_time": "2021-11-30T13:29:18.436632",
     "exception": false,
     "start_time": "2021-11-30T13:29:18.340339",
     "status": "completed"
    },
    "tags": []
   },
   "outputs": [],
   "source": [
    "#Subsetting\n",
    "X=data_fea_train.iloc[:,:-2]\n",
    "y1=data_fea_train.iloc[:,-2]\n",
    "y2=data_fea_train.iloc[:,-1]"
   ]
  },
  {
   "cell_type": "code",
   "execution_count": 16,
   "id": "033b3f2e",
   "metadata": {
    "execution": {
     "iopub.execute_input": "2021-11-30T13:29:18.610960Z",
     "iopub.status.busy": "2021-11-30T13:29:18.610035Z",
     "iopub.status.idle": "2021-11-30T13:29:18.614497Z",
     "shell.execute_reply": "2021-11-30T13:29:18.613908Z",
     "shell.execute_reply.started": "2021-11-30T12:32:13.232019Z"
    },
    "papermill": {
     "duration": 0.094841,
     "end_time": "2021-11-30T13:29:18.614663",
     "exception": false,
     "start_time": "2021-11-30T13:29:18.519822",
     "status": "completed"
    },
    "tags": []
   },
   "outputs": [
    {
     "data": {
      "text/plain": [
       "((17160, 31), (17160,), (17160,))"
      ]
     },
     "execution_count": 16,
     "metadata": {},
     "output_type": "execute_result"
    }
   ],
   "source": [
    "# shape of features,target variables\n",
    "X.shape,y1.shape,y2.shape"
   ]
  },
  {
   "cell_type": "code",
   "execution_count": 17,
   "id": "f5bc2b72",
   "metadata": {
    "execution": {
     "iopub.execute_input": "2021-11-30T13:29:18.786095Z",
     "iopub.status.busy": "2021-11-30T13:29:18.785295Z",
     "iopub.status.idle": "2021-11-30T13:29:18.788622Z",
     "shell.execute_reply": "2021-11-30T13:29:18.788028Z",
     "shell.execute_reply.started": "2021-11-30T12:32:13.924336Z"
    },
    "papermill": {
     "duration": 0.090296,
     "end_time": "2021-11-30T13:29:18.788822",
     "exception": false,
     "start_time": "2021-11-30T13:29:18.698526",
     "status": "completed"
    },
    "tags": []
   },
   "outputs": [],
   "source": [
    "# test data\n",
    "X_test=data_fea_test"
   ]
  },
  {
   "cell_type": "code",
   "execution_count": 18,
   "id": "58cc1b79",
   "metadata": {
    "execution": {
     "iopub.execute_input": "2021-11-30T13:29:18.969685Z",
     "iopub.status.busy": "2021-11-30T13:29:18.967749Z",
     "iopub.status.idle": "2021-11-30T13:29:18.981569Z",
     "shell.execute_reply": "2021-11-30T13:29:18.980821Z",
     "shell.execute_reply.started": "2021-11-30T12:32:15.288506Z"
    },
    "papermill": {
     "duration": 0.107713,
     "end_time": "2021-11-30T13:29:18.981733",
     "exception": false,
     "start_time": "2021-11-30T13:29:18.874020",
     "status": "completed"
    },
    "tags": []
   },
   "outputs": [],
   "source": [
    "#converting dissimilar datatype to one\n",
    "for i in X_test.columns:\n",
    "    if X_test[i].dtype!=X[i].dtype:\n",
    "        X_test[i]=X_test[i].astype(X[i].dtype.name)"
   ]
  },
  {
   "cell_type": "code",
   "execution_count": 19,
   "id": "df09f370",
   "metadata": {
    "execution": {
     "iopub.execute_input": "2021-11-30T13:29:19.160484Z",
     "iopub.status.busy": "2021-11-30T13:29:19.159712Z",
     "iopub.status.idle": "2021-11-30T13:29:19.180599Z",
     "shell.execute_reply": "2021-11-30T13:29:19.179798Z",
     "shell.execute_reply.started": "2021-11-30T12:32:17.570197Z"
    },
    "papermill": {
     "duration": 0.114938,
     "end_time": "2021-11-30T13:29:19.180771",
     "exception": false,
     "start_time": "2021-11-30T13:29:19.065833",
     "status": "completed"
    },
    "tags": []
   },
   "outputs": [],
   "source": [
    "# Data Cleaning\n",
    "X_test=X_test.replace('-99',np.nan)\n",
    "# Cleaning_data\n",
    "# replace '-' with other values\n",
    "X['radiation_exposure']=X['radiation_exposure'].replace('-','others')\n",
    "X['substance_abuse']=X['substance_abuse'].replace('-','others')\n",
    "# Cleaning_data\n",
    "X_test['radiation_exposure']=X_test['radiation_exposure'].replace('-','others')\n",
    "X_test['substance_abuse']=X_test['substance_abuse'].replace('-','others')"
   ]
  },
  {
   "cell_type": "code",
   "execution_count": 20,
   "id": "e4999c3b",
   "metadata": {
    "execution": {
     "iopub.execute_input": "2021-11-30T13:29:19.356231Z",
     "iopub.status.busy": "2021-11-30T13:29:19.355381Z",
     "iopub.status.idle": "2021-11-30T13:29:19.360708Z",
     "shell.execute_reply": "2021-11-30T13:29:19.359966Z",
     "shell.execute_reply.started": "2021-11-30T12:32:18.857911Z"
    },
    "papermill": {
     "duration": 0.095575,
     "end_time": "2021-11-30T13:29:19.360909",
     "exception": false,
     "start_time": "2021-11-30T13:29:19.265334",
     "status": "completed"
    },
    "tags": []
   },
   "outputs": [],
   "source": [
    "# Data Cleaning\n",
    "X_test['WBC_count']=X_test['WBC_count'].mask(X_test['WBC_count']<0,np.nan)\n",
    "X_test['num_previous_abortion']=X_test['num_previous_abortion'].mask(X_test['num_previous_abortion']<0,np.nan)"
   ]
  },
  {
   "cell_type": "code",
   "execution_count": 21,
   "id": "65d16ce5",
   "metadata": {
    "execution": {
     "iopub.execute_input": "2021-11-30T13:29:19.549689Z",
     "iopub.status.busy": "2021-11-30T13:29:19.548933Z",
     "iopub.status.idle": "2021-11-30T13:29:19.610496Z",
     "shell.execute_reply": "2021-11-30T13:29:19.609811Z",
     "shell.execute_reply.started": "2021-11-30T12:32:23.407417Z"
    },
    "papermill": {
     "duration": 0.163947,
     "end_time": "2021-11-30T13:29:19.610658",
     "exception": false,
     "start_time": "2021-11-30T13:29:19.446711",
     "status": "completed"
    },
    "tags": []
   },
   "outputs": [],
   "source": [
    "#Splitting the data\n",
    "X_train1,X_val1,y_train1,y_val1= train_test_split(X,y1,stratify=y1,test_size=0.20)\n",
    "X_train2,X_val2,y_train2,y_val2= train_test_split(X,y2,stratify=y2,test_size=0.20)"
   ]
  },
  {
   "cell_type": "code",
   "execution_count": 22,
   "id": "c116b99b",
   "metadata": {
    "execution": {
     "iopub.execute_input": "2021-11-30T13:29:19.783525Z",
     "iopub.status.busy": "2021-11-30T13:29:19.782812Z",
     "iopub.status.idle": "2021-11-30T13:29:19.789057Z",
     "shell.execute_reply": "2021-11-30T13:29:19.788388Z",
     "shell.execute_reply.started": "2021-11-30T12:32:24.237297Z"
    },
    "papermill": {
     "duration": 0.094569,
     "end_time": "2021-11-30T13:29:19.789221",
     "exception": false,
     "start_time": "2021-11-30T13:29:19.694652",
     "status": "completed"
    },
    "tags": []
   },
   "outputs": [
    {
     "name": "stdout",
     "output_type": "stream",
     "text": [
      "(13728, 31) (3432, 31) (13728,) (3432,)\n",
      "(13728, 31) (3432, 31) (13728,) (3432,)\n"
     ]
    }
   ],
   "source": [
    "# shape of train,validation set\n",
    "print(X_train1.shape,X_val1.shape,y_train1.shape,y_val1.shape)\n",
    "print(X_train2.shape,X_val2.shape,y_train2.shape,y_val2.shape)"
   ]
  },
  {
   "cell_type": "code",
   "execution_count": 23,
   "id": "b563ed03",
   "metadata": {
    "execution": {
     "iopub.execute_input": "2021-11-30T13:29:19.964380Z",
     "iopub.status.busy": "2021-11-30T13:29:19.963632Z",
     "iopub.status.idle": "2021-11-30T13:29:19.966957Z",
     "shell.execute_reply": "2021-11-30T13:29:19.966293Z",
     "shell.execute_reply.started": "2021-11-30T12:32:25.316865Z"
    },
    "papermill": {
     "duration": 0.09405,
     "end_time": "2021-11-30T13:29:19.967146",
     "exception": false,
     "start_time": "2021-11-30T13:29:19.873096",
     "status": "completed"
    },
    "tags": []
   },
   "outputs": [],
   "source": [
    "# Missing value imputation\n",
    "from sklearn.impute import SimpleImputer\n",
    "imp_mode=SimpleImputer(strategy='most_frequent')\n",
    "imp_mode_num=SimpleImputer(strategy='most_frequent')\n",
    "imp_median=SimpleImputer(strategy='median')"
   ]
  },
  {
   "cell_type": "code",
   "execution_count": 24,
   "id": "78d232d1",
   "metadata": {
    "execution": {
     "iopub.execute_input": "2021-11-30T13:29:20.141937Z",
     "iopub.status.busy": "2021-11-30T13:29:20.141197Z",
     "iopub.status.idle": "2021-11-30T13:29:20.145191Z",
     "shell.execute_reply": "2021-11-30T13:29:20.144452Z",
     "shell.execute_reply.started": "2021-11-30T12:32:26.204738Z"
    },
    "papermill": {
     "duration": 0.094305,
     "end_time": "2021-11-30T13:29:20.145355",
     "exception": false,
     "start_time": "2021-11-30T13:29:20.051050",
     "status": "completed"
    },
    "tags": []
   },
   "outputs": [],
   "source": [
    "pd.options.mode.chained_assignment = None  "
   ]
  },
  {
   "cell_type": "code",
   "execution_count": 25,
   "id": "ad0e8aaf",
   "metadata": {
    "execution": {
     "iopub.execute_input": "2021-11-30T13:29:20.329562Z",
     "iopub.status.busy": "2021-11-30T13:29:20.328768Z",
     "iopub.status.idle": "2021-11-30T13:29:21.215259Z",
     "shell.execute_reply": "2021-11-30T13:29:21.215849Z",
     "shell.execute_reply.started": "2021-11-30T12:32:27.836424Z"
    },
    "papermill": {
     "duration": 0.986497,
     "end_time": "2021-11-30T13:29:21.216057",
     "exception": false,
     "start_time": "2021-11-30T13:29:20.229560",
     "status": "completed"
    },
    "tags": []
   },
   "outputs": [],
   "source": [
    "# missing value imputation\n",
    "for i in X.columns:\n",
    "    if (X[i].dtype.name!='object')&(X[i].nunique()<=3):\n",
    "        imp_mode_num.fit(np.array(X_train1[i]).reshape(-1,1))\n",
    "        X_train1[i]=imp_mode_num.transform(np.array(X_train1[i]).reshape(-1,1))\n",
    "        X_val1[i]=imp_mode_num.transform(np.array(X_val1[i]).reshape(-1,1))\n",
    "        X_test[i]=imp_mode_num.transform(np.array(X_test[i]).reshape(-1,1))\n",
    "    elif (X[i].dtype.name!='object')&(X[i].nunique()>3):\n",
    "        imp_median.fit(np.array(X_train1[i]).reshape(-1,1))\n",
    "        X_train1[i]=imp_median.transform(np.array(X_train1[i]).reshape(-1,1))\n",
    "        X_val1[i]=imp_median.transform(np.array(X_val1[i]).reshape(-1,1))\n",
    "        X_test[i]=imp_median.transform(np.array(X_test[i]).reshape(-1,1))\n",
    "    else:\n",
    "        imp_mode.fit(np.array(X_train1[i]).reshape(-1,1))\n",
    "        X_train1[i]=imp_mode.transform(np.array(X_train1[i]).reshape(-1,1))\n",
    "        X_val1[i]=imp_mode.transform(np.array(X_val1[i]).reshape(-1,1))\n",
    "        X_test[i]=imp_mode.transform(np.array(X_test[i]).reshape(-1,1))"
   ]
  },
  {
   "cell_type": "code",
   "execution_count": 26,
   "id": "ca3eb69e",
   "metadata": {
    "execution": {
     "iopub.execute_input": "2021-11-30T13:29:21.393029Z",
     "iopub.status.busy": "2021-11-30T13:29:21.391834Z",
     "iopub.status.idle": "2021-11-30T13:29:21.426948Z",
     "shell.execute_reply": "2021-11-30T13:29:21.426178Z",
     "shell.execute_reply.started": "2021-11-30T12:32:32.789563Z"
    },
    "papermill": {
     "duration": 0.124636,
     "end_time": "2021-11-30T13:29:21.427117",
     "exception": false,
     "start_time": "2021-11-30T13:29:21.302481",
     "status": "completed"
    },
    "tags": []
   },
   "outputs": [
    {
     "data": {
      "text/plain": [
       "patient_age                     0\n",
       "defective_mother                0\n",
       "defective_father                0\n",
       "maternal_gene                   0\n",
       "paternal_gene                   0\n",
       "blood_cell_count                0\n",
       "mother_age                      0\n",
       "father_age                      0\n",
       "Status                          0\n",
       "respiratory_rate                0\n",
       "heart_rate                      0\n",
       "follow_up                       0\n",
       "Gender                          0\n",
       "birth_asphyxia                  0\n",
       "birth_defect_autopsy            0\n",
       "birth_place                     0\n",
       "folic_acid_periconceptional     0\n",
       "maternal_illness                0\n",
       "radiation_exposure              0\n",
       "substance_abuse                 0\n",
       "assisted_conception             0\n",
       "previous_pregnancy_anomalies    0\n",
       "num_previous_abortion           0\n",
       "birth_defects                   0\n",
       "WBC_count                       0\n",
       "blood_test_result               0\n",
       "Symptom 1                       0\n",
       "Symptom 2                       0\n",
       "Symptom 3                       0\n",
       "Symptom 4                       0\n",
       "Symptom 5                       0\n",
       "dtype: int64"
      ]
     },
     "execution_count": 26,
     "metadata": {},
     "output_type": "execute_result"
    }
   ],
   "source": [
    "# checking null values\n",
    "X_train1.isnull().sum()"
   ]
  },
  {
   "cell_type": "code",
   "execution_count": 27,
   "id": "92c718ee",
   "metadata": {
    "execution": {
     "iopub.execute_input": "2021-11-30T13:29:21.608007Z",
     "iopub.status.busy": "2021-11-30T13:29:21.606830Z",
     "iopub.status.idle": "2021-11-30T13:29:21.614740Z",
     "shell.execute_reply": "2021-11-30T13:29:21.614003Z",
     "shell.execute_reply.started": "2021-11-30T12:32:33.516717Z"
    },
    "papermill": {
     "duration": 0.103454,
     "end_time": "2021-11-30T13:29:21.614927",
     "exception": false,
     "start_time": "2021-11-30T13:29:21.511473",
     "status": "completed"
    },
    "tags": []
   },
   "outputs": [
    {
     "data": {
      "text/plain": [
       "patient_age                     0\n",
       "defective_mother                0\n",
       "defective_father                0\n",
       "maternal_gene                   0\n",
       "paternal_gene                   0\n",
       "blood_cell_count                0\n",
       "mother_age                      0\n",
       "father_age                      0\n",
       "Status                          0\n",
       "respiratory_rate                0\n",
       "heart_rate                      0\n",
       "follow_up                       0\n",
       "Gender                          0\n",
       "birth_asphyxia                  0\n",
       "birth_defect_autopsy            0\n",
       "birth_place                     0\n",
       "folic_acid_periconceptional     0\n",
       "maternal_illness                0\n",
       "radiation_exposure              0\n",
       "substance_abuse                 0\n",
       "assisted_conception             0\n",
       "previous_pregnancy_anomalies    0\n",
       "num_previous_abortion           0\n",
       "birth_defects                   0\n",
       "WBC_count                       0\n",
       "blood_test_result               0\n",
       "Symptom 1                       0\n",
       "Symptom 2                       0\n",
       "Symptom 3                       0\n",
       "Symptom 4                       0\n",
       "Symptom 5                       0\n",
       "dtype: int64"
      ]
     },
     "execution_count": 27,
     "metadata": {},
     "output_type": "execute_result"
    }
   ],
   "source": [
    "X_val1.isnull().sum()"
   ]
  },
  {
   "cell_type": "code",
   "execution_count": 28,
   "id": "50b719d5",
   "metadata": {
    "execution": {
     "iopub.execute_input": "2021-11-30T13:29:21.801690Z",
     "iopub.status.busy": "2021-11-30T13:29:21.800943Z",
     "iopub.status.idle": "2021-11-30T13:29:21.828965Z",
     "shell.execute_reply": "2021-11-30T13:29:21.829621Z",
     "shell.execute_reply.started": "2021-11-30T12:32:34.534645Z"
    },
    "papermill": {
     "duration": 0.127757,
     "end_time": "2021-11-30T13:29:21.829843",
     "exception": false,
     "start_time": "2021-11-30T13:29:21.702086",
     "status": "completed"
    },
    "tags": []
   },
   "outputs": [
    {
     "data": {
      "text/plain": [
       "patient_age                     0\n",
       "defective_mother                0\n",
       "defective_father                0\n",
       "maternal_gene                   0\n",
       "paternal_gene                   0\n",
       "blood_cell_count                0\n",
       "mother_age                      0\n",
       "father_age                      0\n",
       "Status                          0\n",
       "respiratory_rate                0\n",
       "heart_rate                      0\n",
       "follow_up                       0\n",
       "Gender                          0\n",
       "birth_asphyxia                  0\n",
       "birth_defect_autopsy            0\n",
       "birth_place                     0\n",
       "folic_acid_periconceptional     0\n",
       "maternal_illness                0\n",
       "radiation_exposure              0\n",
       "substance_abuse                 0\n",
       "assisted_conception             0\n",
       "previous_pregnancy_anomalies    0\n",
       "num_previous_abortion           0\n",
       "birth_defects                   0\n",
       "WBC_count                       0\n",
       "blood_test_result               0\n",
       "Symptom 1                       0\n",
       "Symptom 2                       0\n",
       "Symptom 3                       0\n",
       "Symptom 4                       0\n",
       "Symptom 5                       0\n",
       "dtype: int64"
      ]
     },
     "execution_count": 28,
     "metadata": {},
     "output_type": "execute_result"
    }
   ],
   "source": [
    "X_test.isnull().sum()"
   ]
  },
  {
   "cell_type": "code",
   "execution_count": 29,
   "id": "346356bd",
   "metadata": {
    "execution": {
     "iopub.execute_input": "2021-11-30T13:29:22.008339Z",
     "iopub.status.busy": "2021-11-30T13:29:22.007527Z",
     "iopub.status.idle": "2021-11-30T13:29:22.012734Z",
     "shell.execute_reply": "2021-11-30T13:29:22.013335Z",
     "shell.execute_reply.started": "2021-11-30T12:32:35.437650Z"
    },
    "papermill": {
     "duration": 0.098503,
     "end_time": "2021-11-30T13:29:22.013582",
     "exception": false,
     "start_time": "2021-11-30T13:29:21.915079",
     "status": "completed"
    },
    "tags": []
   },
   "outputs": [],
   "source": [
    "from sklearn.preprocessing import OrdinalEncoder,OneHotEncoder,LabelEncoder,MinMaxScaler\n",
    "ord_enc=OrdinalEncoder()\n",
    "ohe_enc=OneHotEncoder()\n",
    "min_max=MinMaxScaler()"
   ]
  },
  {
   "cell_type": "code",
   "execution_count": 30,
   "id": "f1783e4d",
   "metadata": {
    "execution": {
     "iopub.execute_input": "2021-11-30T13:29:22.192005Z",
     "iopub.status.busy": "2021-11-30T13:29:22.191225Z",
     "iopub.status.idle": "2021-11-30T13:29:22.197960Z",
     "shell.execute_reply": "2021-11-30T13:29:22.198605Z",
     "shell.execute_reply.started": "2021-11-30T12:32:36.750654Z"
    },
    "papermill": {
     "duration": 0.098973,
     "end_time": "2021-11-30T13:29:22.198843",
     "exception": false,
     "start_time": "2021-11-30T13:29:22.099870",
     "status": "completed"
    },
    "tags": []
   },
   "outputs": [],
   "source": [
    "# reset index\n",
    "X_train1.reset_index(inplace=True)\n",
    "X_val1.reset_index(inplace=True)"
   ]
  },
  {
   "cell_type": "code",
   "execution_count": 31,
   "id": "3eaddeaa",
   "metadata": {
    "execution": {
     "iopub.execute_input": "2021-11-30T13:29:22.382804Z",
     "iopub.status.busy": "2021-11-30T13:29:22.382007Z",
     "iopub.status.idle": "2021-11-30T13:29:22.927437Z",
     "shell.execute_reply": "2021-11-30T13:29:22.926748Z",
     "shell.execute_reply.started": "2021-11-30T12:32:37.494342Z"
    },
    "papermill": {
     "duration": 0.637858,
     "end_time": "2021-11-30T13:29:22.927599",
     "exception": false,
     "start_time": "2021-11-30T13:29:22.289741",
     "status": "completed"
    },
    "tags": []
   },
   "outputs": [],
   "source": [
    "# encoding the features\n",
    "for i in X.columns:\n",
    "    if (X[i].dtype.name=='object'):\n",
    "        if i in X and X[i].nunique()<=2:\n",
    "            ord_enc.fit(np.array(X_train1[i]).reshape(-1,1))\n",
    "            X_train1.loc[:,i]=ord_enc.transform(np.array(X_train1[i]).reshape(-1,1))\n",
    "            X_val1.loc[:,i]=ord_enc.transform(np.array(X_val1[i]).reshape(-1,1))\n",
    "            X_test.loc[:,i]=ord_enc.transform(np.array(X_test[i]).reshape(-1,1))\n",
    "        else:\n",
    "            ohe_enc.fit(np.array(X_train1[i]).reshape(-1,1))\n",
    "            X_encode_tr1=pd.DataFrame(ohe_enc.transform(np.array(X_train1[i]).reshape(-1,1)).toarray(),columns=ohe_enc.get_feature_names([i]))\n",
    "            X_encode_va1=pd.DataFrame(ohe_enc.transform(np.array(X_val1[i]).reshape(-1,1)).toarray(),columns=ohe_enc.get_feature_names([i]))\n",
    "            X_encode1=pd.DataFrame(ohe_enc.transform(np.array(X_test[i]).reshape(-1,1)).toarray(),columns=ohe_enc.get_feature_names([i]))\n",
    "            X_train1=pd.concat([X_train1,X_encode_tr1],axis=1)\n",
    "            X_val1=pd.concat([X_val1,X_encode_va1],axis=1)\n",
    "            X_test=pd.concat([X_test,X_encode1],axis=1)\n",
    "            X_train1.drop(columns=[i],inplace=True)\n",
    "            X_val1.drop(columns=[i],inplace=True)\n",
    "            X_test.drop(columns=[i],inplace=True)"
   ]
  },
  {
   "cell_type": "code",
   "execution_count": 32,
   "id": "946e528c",
   "metadata": {
    "execution": {
     "iopub.execute_input": "2021-11-30T13:29:23.108751Z",
     "iopub.status.busy": "2021-11-30T13:29:23.107848Z",
     "iopub.status.idle": "2021-11-30T13:29:23.112380Z",
     "shell.execute_reply": "2021-11-30T13:29:23.111649Z",
     "shell.execute_reply.started": "2021-11-30T12:32:38.208338Z"
    },
    "papermill": {
     "duration": 0.098813,
     "end_time": "2021-11-30T13:29:23.112541",
     "exception": false,
     "start_time": "2021-11-30T13:29:23.013728",
     "status": "completed"
    },
    "tags": []
   },
   "outputs": [
    {
     "data": {
      "text/plain": [
       "((13728, 49), (3432, 49), (9290, 48))"
      ]
     },
     "execution_count": 32,
     "metadata": {},
     "output_type": "execute_result"
    }
   ],
   "source": [
    "# shape of the train,test,val\n",
    "X_train1.shape,X_val1.shape,X_test.shape"
   ]
  },
  {
   "cell_type": "code",
   "execution_count": 33,
   "id": "e88bdc43",
   "metadata": {
    "execution": {
     "iopub.execute_input": "2021-11-30T13:29:23.296483Z",
     "iopub.status.busy": "2021-11-30T13:29:23.295506Z",
     "iopub.status.idle": "2021-11-30T13:29:23.299186Z",
     "shell.execute_reply": "2021-11-30T13:29:23.299948Z",
     "shell.execute_reply.started": "2021-11-30T12:32:38.883341Z"
    },
    "papermill": {
     "duration": 0.10175,
     "end_time": "2021-11-30T13:29:23.300151",
     "exception": false,
     "start_time": "2021-11-30T13:29:23.198401",
     "status": "completed"
    },
    "tags": []
   },
   "outputs": [],
   "source": [
    "X_train1.drop(columns='index',inplace=True)\n",
    "X_val1.drop(columns='index',inplace=True)"
   ]
  },
  {
   "cell_type": "code",
   "execution_count": 34,
   "id": "cec5a625",
   "metadata": {
    "execution": {
     "iopub.execute_input": "2021-11-30T13:29:23.479045Z",
     "iopub.status.busy": "2021-11-30T13:29:23.477864Z",
     "iopub.status.idle": "2021-11-30T13:29:23.492216Z",
     "shell.execute_reply": "2021-11-30T13:29:23.492804Z",
     "shell.execute_reply.started": "2021-11-30T12:32:39.562601Z"
    },
    "papermill": {
     "duration": 0.105461,
     "end_time": "2021-11-30T13:29:23.493019",
     "exception": false,
     "start_time": "2021-11-30T13:29:23.387558",
     "status": "completed"
    },
    "tags": []
   },
   "outputs": [],
   "source": [
    "from sklearn.preprocessing import MinMaxScaler\n",
    "min_max=MinMaxScaler()\n",
    "X2=min_max.fit_transform(X_train1)"
   ]
  },
  {
   "cell_type": "code",
   "execution_count": 35,
   "id": "3630c58d",
   "metadata": {
    "execution": {
     "iopub.execute_input": "2021-11-30T13:29:23.669565Z",
     "iopub.status.busy": "2021-11-30T13:29:23.668486Z",
     "iopub.status.idle": "2021-11-30T13:29:23.673178Z",
     "shell.execute_reply": "2021-11-30T13:29:23.673720Z",
     "shell.execute_reply.started": "2021-11-30T12:32:40.292366Z"
    },
    "papermill": {
     "duration": 0.091792,
     "end_time": "2021-11-30T13:29:23.673958",
     "exception": false,
     "start_time": "2021-11-30T13:29:23.582166",
     "status": "completed"
    },
    "tags": []
   },
   "outputs": [],
   "source": [
    "# normalised minmax\n",
    "X2=pd.DataFrame(X2,columns=X_train1.columns)"
   ]
  },
  {
   "cell_type": "code",
   "execution_count": 36,
   "id": "2115cecd",
   "metadata": {
    "execution": {
     "iopub.execute_input": "2021-11-30T13:29:23.886919Z",
     "iopub.status.busy": "2021-11-30T13:29:23.885502Z",
     "iopub.status.idle": "2021-11-30T13:29:23.895034Z",
     "shell.execute_reply": "2021-11-30T13:29:23.894217Z",
     "shell.execute_reply.started": "2021-11-30T12:32:41.048285Z"
    },
    "papermill": {
     "duration": 0.127749,
     "end_time": "2021-11-30T13:29:23.895198",
     "exception": false,
     "start_time": "2021-11-30T13:29:23.767449",
     "status": "completed"
    },
    "tags": []
   },
   "outputs": [],
   "source": [
    "#normalised val1\n",
    "X2_val=min_max.transform(X_val1)\n",
    "X2_val=pd.DataFrame(X2_val,columns=X_val1.columns)"
   ]
  },
  {
   "cell_type": "code",
   "execution_count": 37,
   "id": "10d298e9",
   "metadata": {
    "execution": {
     "iopub.execute_input": "2021-11-30T13:29:24.075858Z",
     "iopub.status.busy": "2021-11-30T13:29:24.074727Z",
     "iopub.status.idle": "2021-11-30T13:29:24.083235Z",
     "shell.execute_reply": "2021-11-30T13:29:24.083883Z",
     "shell.execute_reply.started": "2021-11-30T12:32:41.855508Z"
    },
    "papermill": {
     "duration": 0.099274,
     "end_time": "2021-11-30T13:29:24.084083",
     "exception": false,
     "start_time": "2021-11-30T13:29:23.984809",
     "status": "completed"
    },
    "tags": []
   },
   "outputs": [],
   "source": [
    "#normalised test\n",
    "X2_test=min_max.transform(X_test)\n",
    "X2_test=pd.DataFrame(X2_test,columns=X_test.columns)"
   ]
  },
  {
   "cell_type": "code",
   "execution_count": 38,
   "id": "929b46c1",
   "metadata": {
    "execution": {
     "iopub.execute_input": "2021-11-30T13:29:24.262971Z",
     "iopub.status.busy": "2021-11-30T13:29:24.256418Z",
     "iopub.status.idle": "2021-11-30T13:29:24.266528Z",
     "shell.execute_reply": "2021-11-30T13:29:24.267147Z",
     "shell.execute_reply.started": "2021-11-30T12:32:42.709173Z"
    },
    "papermill": {
     "duration": 0.098962,
     "end_time": "2021-11-30T13:29:24.267344",
     "exception": false,
     "start_time": "2021-11-30T13:29:24.168382",
     "status": "completed"
    },
    "tags": []
   },
   "outputs": [],
   "source": [
    "# enoding the target variables1\n",
    "lab_enc1=LabelEncoder()\n",
    "y1_en=lab_enc1.fit_transform(y_train1)\n",
    "y1_en_val=lab_enc1.transform(y_val1)"
   ]
  },
  {
   "cell_type": "code",
   "execution_count": 39,
   "id": "6d26c68e",
   "metadata": {
    "execution": {
     "iopub.execute_input": "2021-11-30T13:29:24.442377Z",
     "iopub.status.busy": "2021-11-30T13:29:24.441636Z",
     "iopub.status.idle": "2021-11-30T13:29:24.448405Z",
     "shell.execute_reply": "2021-11-30T13:29:24.449103Z",
     "shell.execute_reply.started": "2021-11-30T12:32:43.475672Z"
    },
    "papermill": {
     "duration": 0.096788,
     "end_time": "2021-11-30T13:29:24.449307",
     "exception": false,
     "start_time": "2021-11-30T13:29:24.352519",
     "status": "completed"
    },
    "tags": []
   },
   "outputs": [
    {
     "data": {
      "text/plain": [
       "(array([0, 1, 2]), array([0, 1, 2]))"
      ]
     },
     "execution_count": 39,
     "metadata": {},
     "output_type": "execute_result"
    }
   ],
   "source": [
    "# printing encoded targets\n",
    "np.unique(y1_en),np.unique(y1_en_val)"
   ]
  },
  {
   "cell_type": "code",
   "execution_count": 40,
   "id": "dfbcec20",
   "metadata": {
    "execution": {
     "iopub.execute_input": "2021-11-30T13:29:24.624493Z",
     "iopub.status.busy": "2021-11-30T13:29:24.623387Z",
     "iopub.status.idle": "2021-11-30T13:29:24.634093Z",
     "shell.execute_reply": "2021-11-30T13:29:24.633346Z",
     "shell.execute_reply.started": "2021-11-30T12:32:44.250519Z"
    },
    "papermill": {
     "duration": 0.09994,
     "end_time": "2021-11-30T13:29:24.634252",
     "exception": false,
     "start_time": "2021-11-30T13:29:24.534312",
     "status": "completed"
    },
    "tags": []
   },
   "outputs": [],
   "source": [
    "# enoding the target variables2\n",
    "lab_enc2=LabelEncoder()\n",
    "y2_en=lab_enc2.fit_transform(y_train2)\n",
    "y2_en_val=lab_enc2.transform(y_val2)"
   ]
  },
  {
   "cell_type": "code",
   "execution_count": 41,
   "id": "078ad9fa",
   "metadata": {
    "execution": {
     "iopub.execute_input": "2021-11-30T13:29:24.807925Z",
     "iopub.status.busy": "2021-11-30T13:29:24.806832Z",
     "iopub.status.idle": "2021-11-30T13:29:24.813639Z",
     "shell.execute_reply": "2021-11-30T13:29:24.814305Z",
     "shell.execute_reply.started": "2021-11-30T12:32:45.149857Z"
    },
    "papermill": {
     "duration": 0.095472,
     "end_time": "2021-11-30T13:29:24.814491",
     "exception": false,
     "start_time": "2021-11-30T13:29:24.719019",
     "status": "completed"
    },
    "tags": []
   },
   "outputs": [
    {
     "data": {
      "text/plain": [
       "(array([0, 1, 2, 3, 4, 5, 6, 7, 8]), array([0, 1, 2, 3, 4, 5, 6, 7, 8]))"
      ]
     },
     "execution_count": 41,
     "metadata": {},
     "output_type": "execute_result"
    }
   ],
   "source": [
    "# printing encoded targets\n",
    "np.unique(y2_en),np.unique(y2_en_val)"
   ]
  },
  {
   "cell_type": "markdown",
   "id": "8fee2c78",
   "metadata": {
    "papermill": {
     "duration": 0.08477,
     "end_time": "2021-11-30T13:29:24.986453",
     "exception": false,
     "start_time": "2021-11-30T13:29:24.901683",
     "status": "completed"
    },
    "tags": []
   },
   "source": [
    "### genetic_disorder"
   ]
  },
  {
   "cell_type": "code",
   "execution_count": 42,
   "id": "ebff1bab",
   "metadata": {
    "execution": {
     "iopub.execute_input": "2021-11-30T13:29:25.161944Z",
     "iopub.status.busy": "2021-11-30T13:29:25.160813Z",
     "iopub.status.idle": "2021-11-30T13:29:37.011165Z",
     "shell.execute_reply": "2021-11-30T13:29:37.012057Z",
     "shell.execute_reply.started": "2021-11-30T12:33:15.193251Z"
    },
    "papermill": {
     "duration": 11.939352,
     "end_time": "2021-11-30T13:29:37.012340",
     "exception": false,
     "start_time": "2021-11-30T13:29:25.072988",
     "status": "completed"
    },
    "tags": []
   },
   "outputs": [
    {
     "name": "stdout",
     "output_type": "stream",
     "text": [
      "shape of X before SMOTE: (13728, 48) \n",
      "shape of X after SMOTE: (21039, 48)\n",
      "balanced class (%):\n"
     ]
    },
    {
     "data": {
      "text/plain": [
       "0    33.333333\n",
       "1    33.333333\n",
       "2    33.333333\n",
       "dtype: float64"
      ]
     },
     "execution_count": 42,
     "metadata": {},
     "output_type": "execute_result"
    }
   ],
   "source": [
    "from imblearn.over_sampling import BorderlineSMOTE\n",
    "sm = BorderlineSMOTE(random_state=42)\n",
    "X_sm, y_sm = sm.fit_resample(X2, pd.DataFrame(y1_en))\n",
    "print(f'''shape of X before SMOTE: {X2.shape} \n",
    "shape of X after SMOTE: {X_sm.shape}''')\n",
    "print('balanced class (%):')\n",
    "y_sm.value_counts(normalize=True) * 100"
   ]
  },
  {
   "cell_type": "code",
   "execution_count": 43,
   "id": "5f9edeea",
   "metadata": {
    "execution": {
     "iopub.execute_input": "2021-11-30T13:29:37.189511Z",
     "iopub.status.busy": "2021-11-30T13:29:37.188762Z",
     "iopub.status.idle": "2021-11-30T13:29:37.223457Z",
     "shell.execute_reply": "2021-11-30T13:29:37.224022Z",
     "shell.execute_reply.started": "2021-11-30T12:33:30.371702Z"
    },
    "papermill": {
     "duration": 0.125157,
     "end_time": "2021-11-30T13:29:37.224224",
     "exception": false,
     "start_time": "2021-11-30T13:29:37.099067",
     "status": "completed"
    },
    "tags": []
   },
   "outputs": [
    {
     "data": {
      "text/html": [
       "<div>\n",
       "<style scoped>\n",
       "    .dataframe tbody tr th:only-of-type {\n",
       "        vertical-align: middle;\n",
       "    }\n",
       "\n",
       "    .dataframe tbody tr th {\n",
       "        vertical-align: top;\n",
       "    }\n",
       "\n",
       "    .dataframe thead th {\n",
       "        text-align: right;\n",
       "    }\n",
       "</style>\n",
       "<table border=\"1\" class=\"dataframe\">\n",
       "  <thead>\n",
       "    <tr style=\"text-align: right;\">\n",
       "      <th></th>\n",
       "      <th>patient_age</th>\n",
       "      <th>defective_mother</th>\n",
       "      <th>defective_father</th>\n",
       "      <th>maternal_gene</th>\n",
       "      <th>paternal_gene</th>\n",
       "      <th>blood_cell_count</th>\n",
       "      <th>mother_age</th>\n",
       "      <th>father_age</th>\n",
       "      <th>Status</th>\n",
       "      <th>respiratory_rate</th>\n",
       "      <th>...</th>\n",
       "      <th>radiation_exposure_Yes</th>\n",
       "      <th>radiation_exposure_others</th>\n",
       "      <th>substance_abuse_No</th>\n",
       "      <th>substance_abuse_Not applicable</th>\n",
       "      <th>substance_abuse_Yes</th>\n",
       "      <th>substance_abuse_others</th>\n",
       "      <th>blood_test_result_abnormal</th>\n",
       "      <th>blood_test_result_inconclusive</th>\n",
       "      <th>blood_test_result_normal</th>\n",
       "      <th>blood_test_result_slightly abnormal</th>\n",
       "    </tr>\n",
       "  </thead>\n",
       "  <tbody>\n",
       "    <tr>\n",
       "      <th>0</th>\n",
       "      <td>0.500000</td>\n",
       "      <td>1.0</td>\n",
       "      <td>1.0</td>\n",
       "      <td>0.0</td>\n",
       "      <td>0.0</td>\n",
       "      <td>0.427495</td>\n",
       "      <td>0.545455</td>\n",
       "      <td>0.795455</td>\n",
       "      <td>0.0</td>\n",
       "      <td>0.0</td>\n",
       "      <td>...</td>\n",
       "      <td>1.0</td>\n",
       "      <td>0.0</td>\n",
       "      <td>0.0</td>\n",
       "      <td>0.0</td>\n",
       "      <td>1.0</td>\n",
       "      <td>0.0</td>\n",
       "      <td>0.0</td>\n",
       "      <td>0.0</td>\n",
       "      <td>1.0</td>\n",
       "      <td>0.0</td>\n",
       "    </tr>\n",
       "    <tr>\n",
       "      <th>1</th>\n",
       "      <td>0.928571</td>\n",
       "      <td>1.0</td>\n",
       "      <td>0.0</td>\n",
       "      <td>1.0</td>\n",
       "      <td>0.0</td>\n",
       "      <td>0.485132</td>\n",
       "      <td>1.000000</td>\n",
       "      <td>0.500000</td>\n",
       "      <td>1.0</td>\n",
       "      <td>0.0</td>\n",
       "      <td>...</td>\n",
       "      <td>0.0</td>\n",
       "      <td>1.0</td>\n",
       "      <td>0.0</td>\n",
       "      <td>0.0</td>\n",
       "      <td>0.0</td>\n",
       "      <td>1.0</td>\n",
       "      <td>0.0</td>\n",
       "      <td>0.0</td>\n",
       "      <td>0.0</td>\n",
       "      <td>1.0</td>\n",
       "    </tr>\n",
       "  </tbody>\n",
       "</table>\n",
       "<p>2 rows × 48 columns</p>\n",
       "</div>"
      ],
      "text/plain": [
       "   patient_age  defective_mother  defective_father  maternal_gene  \\\n",
       "0     0.500000               1.0               1.0            0.0   \n",
       "1     0.928571               1.0               0.0            1.0   \n",
       "\n",
       "   paternal_gene  blood_cell_count  mother_age  father_age  Status  \\\n",
       "0            0.0          0.427495    0.545455    0.795455     0.0   \n",
       "1            0.0          0.485132    1.000000    0.500000     1.0   \n",
       "\n",
       "   respiratory_rate  ...  radiation_exposure_Yes  radiation_exposure_others  \\\n",
       "0               0.0  ...                     1.0                        0.0   \n",
       "1               0.0  ...                     0.0                        1.0   \n",
       "\n",
       "   substance_abuse_No  substance_abuse_Not applicable  substance_abuse_Yes  \\\n",
       "0                 0.0                             0.0                  1.0   \n",
       "1                 0.0                             0.0                  0.0   \n",
       "\n",
       "   substance_abuse_others  blood_test_result_abnormal  \\\n",
       "0                     0.0                         0.0   \n",
       "1                     1.0                         0.0   \n",
       "\n",
       "   blood_test_result_inconclusive  blood_test_result_normal  \\\n",
       "0                             0.0                       1.0   \n",
       "1                             0.0                       0.0   \n",
       "\n",
       "   blood_test_result_slightly abnormal  \n",
       "0                                  0.0  \n",
       "1                                  1.0  \n",
       "\n",
       "[2 rows x 48 columns]"
      ]
     },
     "execution_count": 43,
     "metadata": {},
     "output_type": "execute_result"
    }
   ],
   "source": [
    "X_sm.head(2)"
   ]
  },
  {
   "cell_type": "code",
   "execution_count": 44,
   "id": "1c1c03e7",
   "metadata": {
    "execution": {
     "iopub.execute_input": "2021-11-30T13:29:37.412514Z",
     "iopub.status.busy": "2021-11-30T13:29:37.411753Z",
     "iopub.status.idle": "2021-11-30T13:29:37.415710Z",
     "shell.execute_reply": "2021-11-30T13:29:37.415108Z",
     "shell.execute_reply.started": "2021-11-30T12:33:31.389990Z"
    },
    "papermill": {
     "duration": 0.101547,
     "end_time": "2021-11-30T13:29:37.415948",
     "exception": false,
     "start_time": "2021-11-30T13:29:37.314401",
     "status": "completed"
    },
    "tags": []
   },
   "outputs": [],
   "source": [
    "y1_enco=np.array(y_sm).ravel()"
   ]
  },
  {
   "cell_type": "code",
   "execution_count": 45,
   "id": "89446b5c",
   "metadata": {
    "execution": {
     "iopub.execute_input": "2021-11-30T13:29:37.598972Z",
     "iopub.status.busy": "2021-11-30T13:29:37.598164Z",
     "iopub.status.idle": "2021-11-30T13:29:37.601854Z",
     "shell.execute_reply": "2021-11-30T13:29:37.602455Z",
     "shell.execute_reply.started": "2021-11-30T12:33:32.338453Z"
    },
    "papermill": {
     "duration": 0.097003,
     "end_time": "2021-11-30T13:29:37.602656",
     "exception": false,
     "start_time": "2021-11-30T13:29:37.505653",
     "status": "completed"
    },
    "tags": []
   },
   "outputs": [],
   "source": [
    "from sklearn.feature_selection import SelectKBest,chi2"
   ]
  },
  {
   "cell_type": "code",
   "execution_count": 46,
   "id": "eb5885a7",
   "metadata": {
    "execution": {
     "iopub.execute_input": "2021-11-30T13:29:37.784075Z",
     "iopub.status.busy": "2021-11-30T13:29:37.783243Z",
     "iopub.status.idle": "2021-11-30T13:29:37.821514Z",
     "shell.execute_reply": "2021-11-30T13:29:37.822601Z",
     "shell.execute_reply.started": "2021-11-30T12:33:34.128943Z"
    },
    "papermill": {
     "duration": 0.131274,
     "end_time": "2021-11-30T13:29:37.822952",
     "exception": false,
     "start_time": "2021-11-30T13:29:37.691678",
     "status": "completed"
    },
    "tags": []
   },
   "outputs": [],
   "source": [
    "sel1=SelectKBest(chi2, k=25).fit(X_sm,y1_enco)"
   ]
  },
  {
   "cell_type": "code",
   "execution_count": 47,
   "id": "2498da7a",
   "metadata": {
    "execution": {
     "iopub.execute_input": "2021-11-30T13:29:38.065289Z",
     "iopub.status.busy": "2021-11-30T13:29:38.063266Z",
     "iopub.status.idle": "2021-11-30T13:29:38.068372Z",
     "shell.execute_reply": "2021-11-30T13:29:38.069146Z",
     "shell.execute_reply.started": "2021-11-30T12:33:37.713171Z"
    },
    "papermill": {
     "duration": 0.103799,
     "end_time": "2021-11-30T13:29:38.069345",
     "exception": false,
     "start_time": "2021-11-30T13:29:37.965546",
     "status": "completed"
    },
    "tags": []
   },
   "outputs": [
    {
     "name": "stdout",
     "output_type": "stream",
     "text": [
      "(21039, 25)\n"
     ]
    }
   ],
   "source": [
    "cols=sel1.get_support(indices=True)\n",
    "print(X_sm.iloc[:,cols].shape)\n",
    "result_kbest_20=X_sm.iloc[:,cols]"
   ]
  },
  {
   "cell_type": "code",
   "execution_count": 48,
   "id": "cbfb3ba7",
   "metadata": {
    "execution": {
     "iopub.execute_input": "2021-11-30T13:29:38.250264Z",
     "iopub.status.busy": "2021-11-30T13:29:38.249504Z",
     "iopub.status.idle": "2021-11-30T13:29:38.255875Z",
     "shell.execute_reply": "2021-11-30T13:29:38.256456Z",
     "shell.execute_reply.started": "2021-11-30T12:33:40.986080Z"
    },
    "papermill": {
     "duration": 0.09923,
     "end_time": "2021-11-30T13:29:38.256660",
     "exception": false,
     "start_time": "2021-11-30T13:29:38.157430",
     "status": "completed"
    },
    "tags": []
   },
   "outputs": [
    {
     "name": "stdout",
     "output_type": "stream",
     "text": [
      "Index(['defective_mother', 'defective_father', 'maternal_gene',\n",
      "       'paternal_gene', 'follow_up', 'birth_place',\n",
      "       'folic_acid_periconceptional', 'assisted_conception', 'birth_defects',\n",
      "       'Symptom 1', 'Symptom 2', 'Symptom 3', 'Symptom 4', 'Symptom 5',\n",
      "       'Gender_Ambiguous', 'Gender_Female', 'Gender_Male',\n",
      "       'birth_asphyxia_Not available', 'birth_asphyxia_Yes',\n",
      "       'radiation_exposure_No', 'radiation_exposure_Yes',\n",
      "       'blood_test_result_abnormal', 'blood_test_result_inconclusive',\n",
      "       'blood_test_result_normal', 'blood_test_result_slightly abnormal'],\n",
      "      dtype='object')\n"
     ]
    }
   ],
   "source": [
    "sele_fea= X2.columns[(sel1.get_support())]\n",
    "print(sele_fea)"
   ]
  },
  {
   "cell_type": "code",
   "execution_count": 49,
   "id": "9f636fb7",
   "metadata": {
    "execution": {
     "iopub.execute_input": "2021-11-30T13:29:38.442830Z",
     "iopub.status.busy": "2021-11-30T13:29:38.441928Z",
     "iopub.status.idle": "2021-11-30T13:29:38.445942Z",
     "shell.execute_reply": "2021-11-30T13:29:38.446520Z",
     "shell.execute_reply.started": "2021-11-30T12:33:45.796209Z"
    },
    "papermill": {
     "duration": 0.100965,
     "end_time": "2021-11-30T13:29:38.446719",
     "exception": false,
     "start_time": "2021-11-30T13:29:38.345754",
     "status": "completed"
    },
    "tags": []
   },
   "outputs": [
    {
     "name": "stdout",
     "output_type": "stream",
     "text": [
      "(3432, 25)\n"
     ]
    }
   ],
   "source": [
    "print(X2_val.iloc[:,cols].shape)\n",
    "result_kbest_val=X2_val.iloc[:,cols]"
   ]
  },
  {
   "cell_type": "code",
   "execution_count": 50,
   "id": "48a5f186",
   "metadata": {
    "execution": {
     "iopub.execute_input": "2021-11-30T13:29:38.634242Z",
     "iopub.status.busy": "2021-11-30T13:29:38.633345Z",
     "iopub.status.idle": "2021-11-30T13:29:38.637263Z",
     "shell.execute_reply": "2021-11-30T13:29:38.638010Z",
     "shell.execute_reply.started": "2021-11-30T12:33:48.601437Z"
    },
    "papermill": {
     "duration": 0.100074,
     "end_time": "2021-11-30T13:29:38.638208",
     "exception": false,
     "start_time": "2021-11-30T13:29:38.538134",
     "status": "completed"
    },
    "tags": []
   },
   "outputs": [
    {
     "name": "stdout",
     "output_type": "stream",
     "text": [
      "(9290, 25)\n"
     ]
    }
   ],
   "source": [
    "print(X2_test.iloc[:,cols].shape)\n",
    "result_kbest_test20=X2_test.iloc[:,cols]"
   ]
  },
  {
   "cell_type": "code",
   "execution_count": 51,
   "id": "b46675c4",
   "metadata": {
    "execution": {
     "iopub.execute_input": "2021-11-30T13:29:38.819853Z",
     "iopub.status.busy": "2021-11-30T13:29:38.818799Z",
     "iopub.status.idle": "2021-11-30T13:29:38.822112Z",
     "shell.execute_reply": "2021-11-30T13:29:38.821448Z",
     "shell.execute_reply.started": "2021-11-30T12:33:49.640356Z"
    },
    "papermill": {
     "duration": 0.095985,
     "end_time": "2021-11-30T13:29:38.822268",
     "exception": false,
     "start_time": "2021-11-30T13:29:38.726283",
     "status": "completed"
    },
    "tags": []
   },
   "outputs": [],
   "source": [
    "from sklearn.metrics import f1_score"
   ]
  },
  {
   "cell_type": "code",
   "execution_count": 52,
   "id": "11634b41",
   "metadata": {
    "execution": {
     "iopub.execute_input": "2021-11-30T13:29:39.009767Z",
     "iopub.status.busy": "2021-11-30T13:29:39.008516Z",
     "iopub.status.idle": "2021-11-30T13:34:32.108325Z",
     "shell.execute_reply": "2021-11-30T13:34:32.107576Z",
     "shell.execute_reply.started": "2021-11-30T12:33:50.841827Z"
    },
    "papermill": {
     "duration": 293.200097,
     "end_time": "2021-11-30T13:34:32.108489",
     "exception": false,
     "start_time": "2021-11-30T13:29:38.908392",
     "status": "completed"
    },
    "tags": []
   },
   "outputs": [
    {
     "name": "stdout",
     "output_type": "stream",
     "text": [
      "f1_macro for k =  1 is 0.41360501589355597\n",
      "f1_macro for k =  3 is 0.43629995592734555\n",
      "f1_macro for k =  5 is 0.44061576910554123\n",
      "f1_macro for k =  7 is 0.43729795216079864\n",
      "f1_macro for k =  9 is 0.4416959519399295\n",
      "f1_macro for k =  11 is 0.4411736295154422\n",
      "f1_macro for k =  13 is 0.4431631272806024\n",
      "For values of best nn =  13 The train f1_macro is: 0.6968418127051481\n",
      "For values of best nn =  13 The cross validation f1_macro is: 0.4431631272806024\n"
     ]
    }
   ],
   "source": [
    "nn=[x for x in range(1, 15, 2)]\n",
    "cv_f1_macro=[]\n",
    "for i in nn:\n",
    "    knn=KNeighborsClassifier(n_neighbors=i,n_jobs=-1)\n",
    "    knn.fit(result_kbest_20,y1_enco)\n",
    "    cal_clf = CalibratedClassifierCV(knn, method=\"sigmoid\")\n",
    "    cal_clf.fit(result_kbest_20,y1_enco)\n",
    "    predict_y=cal_clf.predict(result_kbest_val)\n",
    "    cv_f1_macro.append(f1_score(y1_en_val, predict_y,average='macro'))\n",
    "for i in range(len(cv_f1_macro)):\n",
    "    print ('f1_macro for k = ',nn[i],'is',cv_f1_macro[i])\n",
    "best_nn = np.argmax(cv_f1_macro)\n",
    "knn=KNeighborsClassifier(n_neighbors=nn[best_nn])\n",
    "knn.fit(result_kbest_20,y1_enco)\n",
    "cal_clf = CalibratedClassifierCV(knn, method=\"sigmoid\")\n",
    "cal_clf.fit(result_kbest_20,y1_enco)\n",
    "\n",
    "predict_y =cal_clf .predict(result_kbest_20)\n",
    "print ('For values of best nn = ', nn[best_nn], \"The train f1_macro is:\",f1_score(y1_enco, predict_y,average='macro'))\n",
    "predict_y = cal_clf.predict(result_kbest_val)\n",
    "print('For values of best nn = ', nn[best_nn], \"The cross validation f1_macro is:\",f1_score(y1_en_val, predict_y,average='macro'))"
   ]
  },
  {
   "cell_type": "code",
   "execution_count": 53,
   "id": "b23db8b7",
   "metadata": {
    "execution": {
     "iopub.execute_input": "2021-11-30T13:34:32.301469Z",
     "iopub.status.busy": "2021-11-30T13:34:32.300367Z",
     "iopub.status.idle": "2021-11-30T13:34:59.049371Z",
     "shell.execute_reply": "2021-11-30T13:34:59.050662Z",
     "shell.execute_reply.started": "2021-11-30T12:38:54.129048Z"
    },
    "papermill": {
     "duration": 26.854421,
     "end_time": "2021-11-30T13:34:59.051011",
     "exception": false,
     "start_time": "2021-11-30T13:34:32.196590",
     "status": "completed"
    },
    "tags": []
   },
   "outputs": [
    {
     "name": "stdout",
     "output_type": "stream",
     "text": [
      "f1_macro for k =  1e-05 is 0.43991439024408224\n",
      "f1_macro for k =  0.0001 is 0.44257176699431305\n",
      "f1_macro for k =  0.001 is 0.4389785296353886\n",
      "f1_macro for k =  0.01 is 0.43684083044330163\n",
      "f1_macro for k =  0.1 is 0.43816643585016823\n",
      "f1_macro for k =  1 is 0.43687222085380517\n",
      "f1_macro for k =  10 is 0.4369310209911712\n",
      "f1_macro for k =  100 is 0.4369310209911712\n",
      "f1_macro for k =  1000 is 0.4369310209911712\n",
      "For values of best C =  0.0001 The train f1_macro is: 0.564378313249749\n",
      "For values of best C =  0.0001 The cross validation f1_macro is: 0.44257176699431305\n"
     ]
    }
   ],
   "source": [
    "C1= [10 ** x for x in range(-5, 4)]\n",
    "cv_f1_macro=[]\n",
    "for i in C1:\n",
    "    logisticR=LogisticRegression(penalty='l2',C=i,class_weight='balanced')\n",
    "    logisticR.fit(result_kbest_20,y1_enco)\n",
    "    cal_clf = CalibratedClassifierCV(logisticR, method=\"sigmoid\")\n",
    "    cal_clf.fit(result_kbest_20,y1_enco)\n",
    "    predict_y=cal_clf.predict(result_kbest_val)\n",
    "    cv_f1_macro.append(f1_score(y1_en_val, predict_y,average='macro'))\n",
    "for i in range(len(cv_f1_macro)):\n",
    "    print ('f1_macro for k = ',C1[i],'is',cv_f1_macro[i])\n",
    "best_C1 = np.argmax(cv_f1_macro)\n",
    "logisticR=LogisticRegression(penalty='l2',C=C1[best_C1],class_weight='balanced')\n",
    "logisticR.fit(result_kbest_20,y1_enco)\n",
    "cal_clf = CalibratedClassifierCV(logisticR, method=\"sigmoid\")\n",
    "cal_clf.fit(result_kbest_20,y1_enco)\n",
    "\n",
    "predict_y =cal_clf .predict(result_kbest_20)\n",
    "print ('For values of best C = ',C1[best_C1], \"The train f1_macro is:\",f1_score(y1_enco, predict_y,average='macro'))\n",
    "predict_y = cal_clf.predict(result_kbest_val)\n",
    "print('For values of best C = ',C1[best_C1], \"The cross validation f1_macro is:\",f1_score(y1_en_val, predict_y,average='macro'))"
   ]
  },
  {
   "cell_type": "code",
   "execution_count": 54,
   "id": "2b90f8a3",
   "metadata": {
    "execution": {
     "iopub.execute_input": "2021-11-30T13:34:59.278357Z",
     "iopub.status.busy": "2021-11-30T13:34:59.277635Z",
     "iopub.status.idle": "2021-11-30T13:35:04.013056Z",
     "shell.execute_reply": "2021-11-30T13:35:04.012415Z",
     "shell.execute_reply.started": "2021-11-30T12:39:20.653541Z"
    },
    "papermill": {
     "duration": 4.833068,
     "end_time": "2021-11-30T13:35:04.013228",
     "exception": false,
     "start_time": "2021-11-30T13:34:59.180160",
     "status": "completed"
    },
    "tags": []
   },
   "outputs": [
    {
     "name": "stdout",
     "output_type": "stream",
     "text": [
      "Fitting 5 folds for each of 10 candidates, totalling 50 fits\n"
     ]
    },
    {
     "name": "stderr",
     "output_type": "stream",
     "text": [
      "[Parallel(n_jobs=-1)]: Using backend LokyBackend with 4 concurrent workers.\n",
      "[Parallel(n_jobs=-1)]: Done   5 tasks      | elapsed:    3.1s\n",
      "[Parallel(n_jobs=-1)]: Done  10 tasks      | elapsed:    3.3s\n",
      "[Parallel(n_jobs=-1)]: Done  17 tasks      | elapsed:    3.6s\n",
      "[Parallel(n_jobs=-1)]: Done  24 tasks      | elapsed:    3.8s\n",
      "[Parallel(n_jobs=-1)]: Done  33 tasks      | elapsed:    4.1s\n",
      "[Parallel(n_jobs=-1)]: Batch computation too fast (0.1986s.) Setting batch_size=2.\n",
      "[Parallel(n_jobs=-1)]: Done  42 tasks      | elapsed:    4.3s\n",
      "[Parallel(n_jobs=-1)]: Done  50 out of  50 | elapsed:    4.4s finished\n"
     ]
    },
    {
     "data": {
      "text/plain": [
       "RandomizedSearchCV(estimator=DecisionTreeClassifier(random_state=42), n_jobs=-1,\n",
       "                   param_distributions={'criterion': ['gini', 'entropy'],\n",
       "                                        'max_depth': [2, 3, 5, 10, 20],\n",
       "                                        'min_samples_leaf': [5, 10, 20, 50,\n",
       "                                                             100]},\n",
       "                   random_state=42, verbose=10)"
      ]
     },
     "execution_count": 54,
     "metadata": {},
     "output_type": "execute_result"
    }
   ],
   "source": [
    "DT = DecisionTreeClassifier(random_state=42)\n",
    "params = {\n",
    "    'max_depth': [2, 3, 5, 10, 20],\n",
    "    'min_samples_leaf': [5, 10, 20, 50, 100],\n",
    "    'criterion': [\"gini\", \"entropy\"]\n",
    "}\n",
    "random_dt=RandomizedSearchCV(DT,param_distributions=params,verbose=10,n_jobs=-1,random_state=42)\n",
    "random_dt.fit(result_kbest_20,y1_enco)"
   ]
  },
  {
   "cell_type": "code",
   "execution_count": 55,
   "id": "605f506e",
   "metadata": {
    "execution": {
     "iopub.execute_input": "2021-11-30T13:35:04.205149Z",
     "iopub.status.busy": "2021-11-30T13:35:04.202288Z",
     "iopub.status.idle": "2021-11-30T13:35:04.208447Z",
     "shell.execute_reply": "2021-11-30T13:35:04.209085Z",
     "shell.execute_reply.started": "2021-11-30T12:39:25.610231Z"
    },
    "papermill": {
     "duration": 0.103246,
     "end_time": "2021-11-30T13:35:04.209269",
     "exception": false,
     "start_time": "2021-11-30T13:35:04.106023",
     "status": "completed"
    },
    "tags": []
   },
   "outputs": [
    {
     "name": "stdout",
     "output_type": "stream",
     "text": [
      "DecisionTreeClassifier(criterion='entropy', max_depth=20, min_samples_leaf=50,\n",
      "                       random_state=42)\n"
     ]
    }
   ],
   "source": [
    "print(random_dt.best_estimator_)"
   ]
  },
  {
   "cell_type": "code",
   "execution_count": 56,
   "id": "dffebd33",
   "metadata": {
    "execution": {
     "iopub.execute_input": "2021-11-30T13:35:04.398893Z",
     "iopub.status.busy": "2021-11-30T13:35:04.398164Z",
     "iopub.status.idle": "2021-11-30T13:35:04.402658Z",
     "shell.execute_reply": "2021-11-30T13:35:04.403336Z",
     "shell.execute_reply.started": "2021-11-30T12:39:25.618340Z"
    },
    "papermill": {
     "duration": 0.101885,
     "end_time": "2021-11-30T13:35:04.403512",
     "exception": false,
     "start_time": "2021-11-30T13:35:04.301627",
     "status": "completed"
    },
    "tags": []
   },
   "outputs": [
    {
     "name": "stdout",
     "output_type": "stream",
     "text": [
      "0.6459435930158047\n"
     ]
    }
   ],
   "source": [
    "print(random_dt.best_score_)"
   ]
  },
  {
   "cell_type": "code",
   "execution_count": 57,
   "id": "41284c45",
   "metadata": {
    "execution": {
     "iopub.execute_input": "2021-11-30T13:35:04.592982Z",
     "iopub.status.busy": "2021-11-30T13:35:04.592246Z",
     "iopub.status.idle": "2021-11-30T13:35:05.266752Z",
     "shell.execute_reply": "2021-11-30T13:35:05.267454Z",
     "shell.execute_reply.started": "2021-11-30T12:39:55.496809Z"
    },
    "papermill": {
     "duration": 0.771065,
     "end_time": "2021-11-30T13:35:05.267645",
     "exception": false,
     "start_time": "2021-11-30T13:35:04.496580",
     "status": "completed"
    },
    "tags": []
   },
   "outputs": [
    {
     "name": "stdout",
     "output_type": "stream",
     "text": [
      "The train f1_macro is: 0.6962763768501664\n",
      "The cross validation f1_macro is: 0.5404938608744062\n"
     ]
    }
   ],
   "source": [
    "DT = DecisionTreeClassifier(max_depth=20,min_samples_leaf=50,random_state=42)\n",
    "DT.fit(result_kbest_20,y1_enco)\n",
    "cal_clf = CalibratedClassifierCV(DT, method=\"sigmoid\")\n",
    "cal_clf.fit(result_kbest_20,y1_enco)\n",
    "predict_y =cal_clf .predict(result_kbest_20)\n",
    "print ('The train f1_macro is:',f1_score(y1_enco, predict_y,average='macro'))\n",
    "predict_y = cal_clf.predict(result_kbest_val)\n",
    "print('The cross validation f1_macro is:',f1_score(y1_en_val, predict_y,average='macro'))"
   ]
  },
  {
   "cell_type": "code",
   "execution_count": 58,
   "id": "64119b89",
   "metadata": {
    "execution": {
     "iopub.execute_input": "2021-11-30T13:35:05.479960Z",
     "iopub.status.busy": "2021-11-30T13:35:05.479149Z",
     "iopub.status.idle": "2021-11-30T13:47:54.635573Z",
     "shell.execute_reply": "2021-11-30T13:47:54.636227Z",
     "shell.execute_reply.started": "2021-11-30T12:40:00.988211Z"
    },
    "papermill": {
     "duration": 769.267607,
     "end_time": "2021-11-30T13:47:54.636465",
     "exception": false,
     "start_time": "2021-11-30T13:35:05.368858",
     "status": "completed"
    },
    "tags": []
   },
   "outputs": [
    {
     "name": "stdout",
     "output_type": "stream",
     "text": [
      "Fitting 5 folds for each of 10 candidates, totalling 50 fits\n"
     ]
    },
    {
     "name": "stderr",
     "output_type": "stream",
     "text": [
      "[Parallel(n_jobs=-1)]: Using backend LokyBackend with 4 concurrent workers.\n",
      "[Parallel(n_jobs=-1)]: Done   5 tasks      | elapsed:  2.1min\n"
     ]
    },
    {
     "name": "stdout",
     "output_type": "stream",
     "text": [
      "[CV] min_samples_leaf=50, max_depth=5, criterion=gini ................\n",
      "[CV]  min_samples_leaf=50, max_depth=5, criterion=gini, score=0.625, total=   0.1s\n",
      "[CV] min_samples_leaf=100, max_depth=5, criterion=entropy ............\n",
      "[CV]  min_samples_leaf=100, max_depth=5, criterion=entropy, score=0.581, total=   0.1s\n",
      "[CV] min_samples_leaf=100, max_depth=5, criterion=entropy ............\n",
      "[CV]  min_samples_leaf=100, max_depth=5, criterion=entropy, score=0.624, total=   0.1s\n",
      "[CV] min_samples_leaf=5, max_depth=3, criterion=entropy ..............\n",
      "[CV]  min_samples_leaf=5, max_depth=3, criterion=entropy, score=0.570, total=   0.1s\n",
      "[CV] min_samples_leaf=5, max_depth=20, criterion=entropy .............\n",
      "[CV]  min_samples_leaf=5, max_depth=20, criterion=entropy, score=0.655, total=   0.2s\n",
      "[CV] min_samples_leaf=20, max_depth=10, criterion=gini ...............\n",
      "[CV]  min_samples_leaf=20, max_depth=10, criterion=gini, score=0.550, total=   0.1s\n",
      "[CV] min_samples_leaf=20, max_depth=10, criterion=gini ...............\n",
      "[CV]  min_samples_leaf=20, max_depth=10, criterion=gini, score=0.683, total=   0.2s\n",
      "[CV] min_samples_leaf=50, max_depth=20, criterion=entropy ............\n",
      "[CV]  min_samples_leaf=50, max_depth=20, criterion=entropy, score=0.688, total=   0.2s\n",
      "[CV] min_samples_leaf=10, max_depth=2, criterion=entropy .............\n",
      "[CV]  min_samples_leaf=10, max_depth=2, criterion=entropy, score=0.553, total=   0.0s\n",
      "[CV] min_samples_leaf=5, max_depth=2, criterion=entropy ..............\n",
      "[CV]  min_samples_leaf=5, max_depth=2, criterion=entropy, score=0.575, total=   0.1s\n",
      "[CV] min_samples_leaf=20, max_depth=3, criterion=entropy .............\n",
      "[CV]  min_samples_leaf=20, max_depth=3, criterion=entropy, score=0.573, total=   0.1s\n",
      "[CV] min_samples_leaf=20, max_depth=3, criterion=entropy .............\n",
      "[CV]  min_samples_leaf=20, max_depth=3, criterion=entropy, score=0.563, total=   0.1s\n",
      "[CV] min_samples_leaf=100, max_depth=10, criterion=gini ..............\n",
      "[CV]  min_samples_leaf=100, max_depth=10, criterion=gini, score=0.678, total=   0.1s\n",
      "[CV] n_estimators=1800, min_samples_split=10, min_samples_leaf=2, max_features=sqrt, max_depth=20, bootstrap=False \n",
      "[CV]  n_estimators=1800, min_samples_split=10, min_samples_leaf=2, max_features=sqrt, max_depth=20, bootstrap=False, score=0.701, total= 1.2min\n",
      "[CV] n_estimators=1200, min_samples_split=10, min_samples_leaf=1, max_features=auto, max_depth=50, bootstrap=False \n",
      "[CV]  n_estimators=1200, min_samples_split=10, min_samples_leaf=1, max_features=auto, max_depth=50, bootstrap=False, score=0.721, total=  50.3s\n"
     ]
    },
    {
     "name": "stderr",
     "output_type": "stream",
     "text": [
      "/opt/conda/lib/python3.7/site-packages/joblib/externals/loky/process_executor.py:691: UserWarning: A worker stopped while some jobs were given to the executor. This can be caused by a too short worker timeout or by a memory leak.\n",
      "  \"timeout or by a memory leak.\", UserWarning\n"
     ]
    },
    {
     "name": "stdout",
     "output_type": "stream",
     "text": [
      "[CV] min_samples_leaf=50, max_depth=5, criterion=gini ................\n",
      "[CV]  min_samples_leaf=50, max_depth=5, criterion=gini, score=0.567, total=   0.1s\n",
      "[CV] min_samples_leaf=50, max_depth=5, criterion=gini ................\n",
      "[CV]  min_samples_leaf=50, max_depth=5, criterion=gini, score=0.628, total=   0.1s\n",
      "[CV] min_samples_leaf=100, max_depth=5, criterion=entropy ............\n",
      "[CV]  min_samples_leaf=100, max_depth=5, criterion=entropy, score=0.641, total=   0.1s\n",
      "[CV] min_samples_leaf=5, max_depth=3, criterion=entropy ..............\n",
      "[CV]  min_samples_leaf=5, max_depth=3, criterion=entropy, score=0.573, total=   0.1s\n",
      "[CV] min_samples_leaf=5, max_depth=20, criterion=entropy .............\n",
      "[CV]  min_samples_leaf=5, max_depth=20, criterion=entropy, score=0.483, total=   0.3s\n",
      "[CV] min_samples_leaf=5, max_depth=20, criterion=entropy .............\n",
      "[CV]  min_samples_leaf=5, max_depth=20, criterion=entropy, score=0.662, total=   0.2s\n",
      "[CV] min_samples_leaf=50, max_depth=20, criterion=entropy ............\n",
      "[CV]  min_samples_leaf=50, max_depth=20, criterion=entropy, score=0.681, total=   0.2s\n",
      "[CV] min_samples_leaf=10, max_depth=2, criterion=entropy .............\n",
      "[CV]  min_samples_leaf=10, max_depth=2, criterion=entropy, score=0.488, total=   0.1s\n",
      "[CV] min_samples_leaf=10, max_depth=2, criterion=entropy .............\n",
      "[CV]  min_samples_leaf=10, max_depth=2, criterion=entropy, score=0.575, total=   0.1s\n",
      "[CV] min_samples_leaf=5, max_depth=2, criterion=entropy ..............\n",
      "[CV]  min_samples_leaf=5, max_depth=2, criterion=entropy, score=0.488, total=   0.1s\n",
      "[CV] min_samples_leaf=5, max_depth=2, criterion=entropy ..............\n",
      "[CV]  min_samples_leaf=5, max_depth=2, criterion=entropy, score=0.521, total=   0.0s\n",
      "[CV] min_samples_leaf=20, max_depth=3, criterion=entropy .............\n",
      "[CV]  min_samples_leaf=20, max_depth=3, criterion=entropy, score=0.577, total=   0.1s\n",
      "[CV] min_samples_leaf=100, max_depth=10, criterion=gini ..............\n",
      "[CV]  min_samples_leaf=100, max_depth=10, criterion=gini, score=0.660, total=   0.1s\n",
      "[CV] n_estimators=1800, min_samples_split=10, min_samples_leaf=2, max_features=sqrt, max_depth=20, bootstrap=False \n",
      "[CV]  n_estimators=1800, min_samples_split=10, min_samples_leaf=2, max_features=sqrt, max_depth=20, bootstrap=False, score=0.724, total= 1.2min\n",
      "[CV] n_estimators=1200, min_samples_split=10, min_samples_leaf=1, max_features=auto, max_depth=50, bootstrap=False \n",
      "[CV]  n_estimators=1200, min_samples_split=10, min_samples_leaf=1, max_features=auto, max_depth=50, bootstrap=False, score=0.529, total=  53.2s\n",
      "[CV] min_samples_leaf=50, max_depth=5, criterion=gini ................\n",
      "[CV]  min_samples_leaf=50, max_depth=5, criterion=gini, score=0.645, total=   0.1s\n",
      "[CV] min_samples_leaf=5, max_depth=3, criterion=entropy ..............\n",
      "[CV]  min_samples_leaf=5, max_depth=3, criterion=entropy, score=0.480, total=   0.1s\n",
      "[CV] min_samples_leaf=5, max_depth=3, criterion=entropy ..............\n",
      "[CV]  min_samples_leaf=5, max_depth=3, criterion=entropy, score=0.577, total=   0.1s\n",
      "[CV] min_samples_leaf=5, max_depth=20, criterion=entropy .............\n",
      "[CV]  min_samples_leaf=5, max_depth=20, criterion=entropy, score=0.668, total=   0.2s\n",
      "[CV] min_samples_leaf=20, max_depth=10, criterion=gini ...............\n",
      "[CV]  min_samples_leaf=20, max_depth=10, criterion=gini, score=0.670, total=   0.1s\n",
      "[CV] min_samples_leaf=20, max_depth=10, criterion=gini ...............\n",
      "[CV]  min_samples_leaf=20, max_depth=10, criterion=gini, score=0.656, total=   0.1s\n",
      "[CV] min_samples_leaf=50, max_depth=20, criterion=entropy ............\n",
      "[CV]  min_samples_leaf=50, max_depth=20, criterion=entropy, score=0.668, total=   0.2s\n",
      "[CV] min_samples_leaf=10, max_depth=2, criterion=entropy .............\n",
      "[CV]  min_samples_leaf=10, max_depth=2, criterion=entropy, score=0.560, total=   0.1s\n",
      "[CV] min_samples_leaf=10, max_depth=2, criterion=entropy .............\n",
      "[CV]  min_samples_leaf=10, max_depth=2, criterion=entropy, score=0.521, total=   0.0s\n",
      "[CV] min_samples_leaf=5, max_depth=2, criterion=entropy ..............\n",
      "[CV]  min_samples_leaf=5, max_depth=2, criterion=entropy, score=0.553, total=   0.0s\n",
      "[CV] min_samples_leaf=20, max_depth=3, criterion=entropy .............\n",
      "[CV]  min_samples_leaf=20, max_depth=3, criterion=entropy, score=0.570, total=   0.1s\n",
      "[CV] min_samples_leaf=100, max_depth=10, criterion=gini ..............\n",
      "[CV]  min_samples_leaf=100, max_depth=10, criterion=gini, score=0.653, total=   0.1s\n",
      "[CV] n_estimators=1800, min_samples_split=10, min_samples_leaf=2, max_features=sqrt, max_depth=20, bootstrap=False \n",
      "[CV]  n_estimators=1800, min_samples_split=10, min_samples_leaf=2, max_features=sqrt, max_depth=20, bootstrap=False, score=0.534, total= 1.3min\n",
      "[CV] n_estimators=1200, min_samples_split=10, min_samples_leaf=1, max_features=auto, max_depth=50, bootstrap=False \n",
      "[CV]  n_estimators=1200, min_samples_split=10, min_samples_leaf=1, max_features=auto, max_depth=50, bootstrap=False, score=0.700, total=  50.6s\n"
     ]
    },
    {
     "name": "stderr",
     "output_type": "stream",
     "text": [
      "[Parallel(n_jobs=-1)]: Done  10 tasks      | elapsed:  2.9min\n",
      "[Parallel(n_jobs=-1)]: Done  17 tasks      | elapsed:  4.8min\n"
     ]
    },
    {
     "name": "stdout",
     "output_type": "stream",
     "text": [
      "[CV] n_estimators=1200, min_samples_split=10, min_samples_leaf=1, max_features=auto, max_depth=50, bootstrap=False \n",
      "[CV]  n_estimators=1200, min_samples_split=10, min_samples_leaf=1, max_features=auto, max_depth=50, bootstrap=False, score=0.753, total=  49.8s\n",
      "[CV] n_estimators=1400, min_samples_split=10, min_samples_leaf=4, max_features=sqrt, max_depth=60, bootstrap=True \n",
      "[CV]  n_estimators=1400, min_samples_split=10, min_samples_leaf=4, max_features=sqrt, max_depth=60, bootstrap=True, score=0.734, total=  37.5s\n",
      "[CV] n_estimators=1800, min_samples_split=10, min_samples_leaf=4, max_features=sqrt, max_depth=30, bootstrap=False \n",
      "[CV]  n_estimators=1800, min_samples_split=10, min_samples_leaf=4, max_features=sqrt, max_depth=30, bootstrap=False, score=0.723, total= 1.2min\n",
      "[CV] n_estimators=1200, min_samples_split=10, min_samples_leaf=1, max_features=auto, max_depth=50, bootstrap=False \n",
      "[CV]  n_estimators=1200, min_samples_split=10, min_samples_leaf=1, max_features=auto, max_depth=50, bootstrap=False, score=0.748, total=  45.3s\n",
      "[CV] n_estimators=1400, min_samples_split=10, min_samples_leaf=4, max_features=sqrt, max_depth=60, bootstrap=True \n",
      "[CV]  n_estimators=1400, min_samples_split=10, min_samples_leaf=4, max_features=sqrt, max_depth=60, bootstrap=True, score=0.702, total=  41.5s\n",
      "[CV] n_estimators=1800, min_samples_split=10, min_samples_leaf=4, max_features=sqrt, max_depth=30, bootstrap=False \n",
      "[CV]  n_estimators=1800, min_samples_split=10, min_samples_leaf=4, max_features=sqrt, max_depth=30, bootstrap=False, score=0.751, total= 1.2min\n"
     ]
    },
    {
     "name": "stderr",
     "output_type": "stream",
     "text": [
      "[Parallel(n_jobs=-1)]: Done  24 tasks      | elapsed:  6.1min\n"
     ]
    },
    {
     "name": "stdout",
     "output_type": "stream",
     "text": [
      "[CV] n_estimators=1000, min_samples_split=2, min_samples_leaf=4, max_features=sqrt, max_depth=20, bootstrap=False \n",
      "[CV]  n_estimators=1000, min_samples_split=2, min_samples_leaf=4, max_features=sqrt, max_depth=20, bootstrap=False, score=0.539, total=  43.6s\n",
      "[CV] n_estimators=2000, min_samples_split=5, min_samples_leaf=1, max_features=sqrt, max_depth=20, bootstrap=False \n",
      "[CV]  n_estimators=2000, min_samples_split=5, min_samples_leaf=1, max_features=sqrt, max_depth=20, bootstrap=False, score=0.720, total= 1.6min\n",
      "[CV] n_estimators=1400, min_samples_split=10, min_samples_leaf=4, max_features=sqrt, max_depth=60, bootstrap=True \n",
      "[CV]  n_estimators=1400, min_samples_split=10, min_samples_leaf=4, max_features=sqrt, max_depth=60, bootstrap=True, score=0.547, total=  42.8s\n",
      "[CV] n_estimators=1400, min_samples_split=10, min_samples_leaf=4, max_features=sqrt, max_depth=60, bootstrap=True \n",
      "[CV]  n_estimators=1400, min_samples_split=10, min_samples_leaf=4, max_features=sqrt, max_depth=60, bootstrap=True, score=0.745, total=  40.7s\n",
      "[CV] n_estimators=1800, min_samples_split=10, min_samples_leaf=4, max_features=sqrt, max_depth=30, bootstrap=False \n",
      "[CV]  n_estimators=1800, min_samples_split=10, min_samples_leaf=4, max_features=sqrt, max_depth=30, bootstrap=False, score=0.704, total= 1.2min\n",
      "[CV] n_estimators=1000, min_samples_split=2, min_samples_leaf=4, max_features=sqrt, max_depth=20, bootstrap=False \n",
      "[CV]  n_estimators=1000, min_samples_split=2, min_samples_leaf=4, max_features=sqrt, max_depth=20, bootstrap=False, score=0.724, total=  41.0s\n",
      "[CV] n_estimators=1000, min_samples_split=2, min_samples_leaf=4, max_features=sqrt, max_depth=20, bootstrap=False \n",
      "[CV]  n_estimators=1000, min_samples_split=2, min_samples_leaf=4, max_features=sqrt, max_depth=20, bootstrap=False, score=0.741, total=  37.8s\n",
      "[CV] n_estimators=2000, min_samples_split=5, min_samples_leaf=1, max_features=sqrt, max_depth=20, bootstrap=False \n",
      "[CV]  n_estimators=2000, min_samples_split=5, min_samples_leaf=1, max_features=sqrt, max_depth=20, bootstrap=False, score=0.752, total= 1.5min\n"
     ]
    },
    {
     "name": "stderr",
     "output_type": "stream",
     "text": [
      "[Parallel(n_jobs=-1)]: Done  33 tasks      | elapsed:  8.7min\n"
     ]
    },
    {
     "name": "stdout",
     "output_type": "stream",
     "text": [
      "[CV] n_estimators=1400, min_samples_split=10, min_samples_leaf=4, max_features=sqrt, max_depth=60, bootstrap=False \n",
      "[CV]  n_estimators=1400, min_samples_split=10, min_samples_leaf=4, max_features=sqrt, max_depth=60, bootstrap=False, score=0.704, total=  56.4s\n",
      "[CV] n_estimators=1400, min_samples_split=5, min_samples_leaf=2, max_features=auto, max_depth=20, bootstrap=False \n",
      "[CV]  n_estimators=1400, min_samples_split=5, min_samples_leaf=2, max_features=auto, max_depth=20, bootstrap=False, score=0.724, total= 1.1min\n",
      "[CV] n_estimators=1000, min_samples_split=2, min_samples_leaf=4, max_features=sqrt, max_depth=20, bootstrap=False \n",
      "[CV]  n_estimators=1000, min_samples_split=2, min_samples_leaf=4, max_features=sqrt, max_depth=20, bootstrap=False, score=0.703, total=  41.3s\n",
      "[CV] n_estimators=2000, min_samples_split=5, min_samples_leaf=1, max_features=sqrt, max_depth=20, bootstrap=False \n",
      "[CV]  n_estimators=2000, min_samples_split=5, min_samples_leaf=1, max_features=sqrt, max_depth=20, bootstrap=False, score=0.522, total= 1.7min\n",
      "[CV] n_estimators=1400, min_samples_split=10, min_samples_leaf=4, max_features=sqrt, max_depth=60, bootstrap=False \n",
      "[CV]  n_estimators=1400, min_samples_split=10, min_samples_leaf=4, max_features=sqrt, max_depth=60, bootstrap=False, score=0.539, total= 1.0min\n",
      "[CV] n_estimators=1400, min_samples_split=10, min_samples_leaf=4, max_features=sqrt, max_depth=60, bootstrap=False \n",
      "[CV]  n_estimators=1400, min_samples_split=10, min_samples_leaf=4, max_features=sqrt, max_depth=60, bootstrap=False, score=0.751, total=  54.7s\n",
      "[CV] n_estimators=1400, min_samples_split=5, min_samples_leaf=2, max_features=auto, max_depth=20, bootstrap=False \n",
      "[CV]  n_estimators=1400, min_samples_split=5, min_samples_leaf=2, max_features=auto, max_depth=20, bootstrap=False, score=0.702, total= 1.1min\n",
      "[CV] min_samples_leaf=50, max_depth=5, criterion=gini ................\n",
      "[CV]  min_samples_leaf=50, max_depth=5, criterion=gini, score=0.644, total=   0.1s\n",
      "[CV] min_samples_leaf=100, max_depth=5, criterion=entropy ............\n",
      "[CV]  min_samples_leaf=100, max_depth=5, criterion=entropy, score=0.640, total=   0.1s\n",
      "[CV] min_samples_leaf=100, max_depth=5, criterion=entropy ............\n",
      "[CV]  min_samples_leaf=100, max_depth=5, criterion=entropy, score=0.658, total=   0.1s\n",
      "[CV] min_samples_leaf=5, max_depth=3, criterion=entropy ..............\n",
      "[CV]  min_samples_leaf=5, max_depth=3, criterion=entropy, score=0.563, total=   0.1s\n",
      "[CV] min_samples_leaf=5, max_depth=20, criterion=entropy .............\n",
      "[CV]  min_samples_leaf=5, max_depth=20, criterion=entropy, score=0.650, total=   0.2s\n",
      "[CV] min_samples_leaf=20, max_depth=10, criterion=gini ...............\n",
      "[CV]  min_samples_leaf=20, max_depth=10, criterion=gini, score=0.662, total=   0.2s\n",
      "[CV] min_samples_leaf=50, max_depth=20, criterion=entropy ............\n",
      "[CV]  min_samples_leaf=50, max_depth=20, criterion=entropy, score=0.539, total=   0.2s\n",
      "[CV] min_samples_leaf=50, max_depth=20, criterion=entropy ............\n",
      "[CV]  min_samples_leaf=50, max_depth=20, criterion=entropy, score=0.653, total=   0.1s\n",
      "[CV] min_samples_leaf=5, max_depth=2, criterion=entropy ..............\n",
      "[CV]  min_samples_leaf=5, max_depth=2, criterion=entropy, score=0.560, total=   0.0s\n",
      "[CV] min_samples_leaf=20, max_depth=3, criterion=entropy .............\n",
      "[CV]  min_samples_leaf=20, max_depth=3, criterion=entropy, score=0.480, total=   0.1s\n",
      "[CV] min_samples_leaf=100, max_depth=10, criterion=gini ..............\n",
      "[CV]  min_samples_leaf=100, max_depth=10, criterion=gini, score=0.545, total=   0.1s\n",
      "[CV] min_samples_leaf=100, max_depth=10, criterion=gini ..............\n",
      "[CV]  min_samples_leaf=100, max_depth=10, criterion=gini, score=0.640, total=   0.1s\n",
      "[CV] n_estimators=1800, min_samples_split=10, min_samples_leaf=2, max_features=sqrt, max_depth=20, bootstrap=False \n",
      "[CV]  n_estimators=1800, min_samples_split=10, min_samples_leaf=2, max_features=sqrt, max_depth=20, bootstrap=False, score=0.754, total= 1.2min\n",
      "[CV] n_estimators=1800, min_samples_split=10, min_samples_leaf=2, max_features=sqrt, max_depth=20, bootstrap=False \n",
      "[CV]  n_estimators=1800, min_samples_split=10, min_samples_leaf=2, max_features=sqrt, max_depth=20, bootstrap=False, score=0.744, total= 1.1min\n",
      "[CV] n_estimators=1400, min_samples_split=10, min_samples_leaf=4, max_features=sqrt, max_depth=60, bootstrap=True \n",
      "[CV]  n_estimators=1400, min_samples_split=10, min_samples_leaf=4, max_features=sqrt, max_depth=60, bootstrap=True, score=0.721, total=  40.8s\n",
      "[CV] n_estimators=1800, min_samples_split=10, min_samples_leaf=4, max_features=sqrt, max_depth=30, bootstrap=False \n",
      "[CV]  n_estimators=1800, min_samples_split=10, min_samples_leaf=4, max_features=sqrt, max_depth=30, bootstrap=False, score=0.541, total= 1.3min\n",
      "[CV] n_estimators=1800, min_samples_split=10, min_samples_leaf=4, max_features=sqrt, max_depth=30, bootstrap=False \n",
      "[CV]  n_estimators=1800, min_samples_split=10, min_samples_leaf=4, max_features=sqrt, max_depth=30, bootstrap=False, score=0.741, total= 1.1min\n",
      "[CV] n_estimators=1000, min_samples_split=2, min_samples_leaf=4, max_features=sqrt, max_depth=20, bootstrap=False \n",
      "[CV]  n_estimators=1000, min_samples_split=2, min_samples_leaf=4, max_features=sqrt, max_depth=20, bootstrap=False, score=0.753, total=  39.7s\n",
      "[CV] n_estimators=2000, min_samples_split=5, min_samples_leaf=1, max_features=sqrt, max_depth=20, bootstrap=False \n",
      "[CV]  n_estimators=2000, min_samples_split=5, min_samples_leaf=1, max_features=sqrt, max_depth=20, bootstrap=False, score=0.701, total= 1.6min\n",
      "[CV] n_estimators=1400, min_samples_split=10, min_samples_leaf=4, max_features=sqrt, max_depth=60, bootstrap=False \n",
      "[CV]  n_estimators=1400, min_samples_split=10, min_samples_leaf=4, max_features=sqrt, max_depth=60, bootstrap=False, score=0.724, total=  55.5s\n",
      "[CV] n_estimators=1400, min_samples_split=10, min_samples_leaf=4, max_features=sqrt, max_depth=60, bootstrap=False \n",
      "[CV]  n_estimators=1400, min_samples_split=10, min_samples_leaf=4, max_features=sqrt, max_depth=60, bootstrap=False, score=0.740, total=  50.9s\n",
      "[CV] n_estimators=1400, min_samples_split=5, min_samples_leaf=2, max_features=auto, max_depth=20, bootstrap=False \n",
      "[CV]  n_estimators=1400, min_samples_split=5, min_samples_leaf=2, max_features=auto, max_depth=20, bootstrap=False, score=0.752, total= 1.0min\n"
     ]
    },
    {
     "name": "stderr",
     "output_type": "stream",
     "text": [
      "[Parallel(n_jobs=-1)]: Done  42 tasks      | elapsed: 11.5min\n",
      "[Parallel(n_jobs=-1)]: Done  50 out of  50 | elapsed: 12.3min finished\n"
     ]
    },
    {
     "data": {
      "text/plain": [
       "RandomizedSearchCV(estimator=RandomForestClassifier(random_state=42), n_jobs=-1,\n",
       "                   param_distributions={'bootstrap': [True, False],\n",
       "                                        'max_depth': [10, 20, 30, 40, 50, 60],\n",
       "                                        'max_features': ['auto', 'sqrt'],\n",
       "                                        'min_samples_leaf': [1, 2, 4],\n",
       "                                        'min_samples_split': [2, 5, 10],\n",
       "                                        'n_estimators': [600, 800, 1000, 1200,\n",
       "                                                         1400, 1600, 1800,\n",
       "                                                         2000]},\n",
       "                   random_state=42, verbose=10)"
      ]
     },
     "execution_count": 58,
     "metadata": {},
     "output_type": "execute_result"
    }
   ],
   "source": [
    "rfc=RandomForestClassifier(random_state=42)\n",
    "params1={'bootstrap': [True, False],\n",
    " 'max_depth': [10, 20, 30, 40, 50, 60],\n",
    " 'max_features': ['auto', 'sqrt'],\n",
    " 'min_samples_leaf': [1, 2, 4],\n",
    " 'min_samples_split': [2, 5, 10],\n",
    " 'n_estimators': [600, 800, 1000, 1200, 1400, 1600, 1800, 2000]}\n",
    "random_rfc=RandomizedSearchCV(rfc,param_distributions=params1,verbose=10,n_jobs=-1,random_state=42)\n",
    "random_rfc.fit(result_kbest_20,y1_enco)"
   ]
  },
  {
   "cell_type": "code",
   "execution_count": 59,
   "id": "fdc4efa6",
   "metadata": {
    "execution": {
     "iopub.execute_input": "2021-11-30T13:47:54.881196Z",
     "iopub.status.busy": "2021-11-30T13:47:54.880472Z",
     "iopub.status.idle": "2021-11-30T13:47:54.886734Z",
     "shell.execute_reply": "2021-11-30T13:47:54.887862Z",
     "shell.execute_reply.started": "2021-11-30T12:54:01.766550Z"
    },
    "papermill": {
     "duration": 0.149504,
     "end_time": "2021-11-30T13:47:54.888091",
     "exception": false,
     "start_time": "2021-11-30T13:47:54.738587",
     "status": "completed"
    },
    "tags": []
   },
   "outputs": [
    {
     "name": "stdout",
     "output_type": "stream",
     "text": [
      "RandomForestClassifier(bootstrap=False, max_depth=20, max_features='sqrt',\n",
      "                       min_samples_leaf=4, n_estimators=1000, random_state=42)\n"
     ]
    }
   ],
   "source": [
    "print(random_rfc.best_estimator_)"
   ]
  },
  {
   "cell_type": "code",
   "execution_count": 60,
   "id": "dbf95d00",
   "metadata": {
    "execution": {
     "iopub.execute_input": "2021-11-30T13:47:55.094748Z",
     "iopub.status.busy": "2021-11-30T13:47:55.094069Z",
     "iopub.status.idle": "2021-11-30T13:47:55.099054Z",
     "shell.execute_reply": "2021-11-30T13:47:55.099730Z",
     "shell.execute_reply.started": "2021-11-30T12:54:01.776855Z"
    },
    "papermill": {
     "duration": 0.109392,
     "end_time": "2021-11-30T13:47:55.099945",
     "exception": false,
     "start_time": "2021-11-30T13:47:54.990553",
     "status": "completed"
    },
    "tags": []
   },
   "outputs": [
    {
     "name": "stdout",
     "output_type": "stream",
     "text": [
      "0.6922880885650478\n"
     ]
    }
   ],
   "source": [
    "print(random_rfc.best_score_)"
   ]
  },
  {
   "cell_type": "code",
   "execution_count": 61,
   "id": "aff0cbb6",
   "metadata": {
    "execution": {
     "iopub.execute_input": "2021-11-30T13:47:55.307601Z",
     "iopub.status.busy": "2021-11-30T13:47:55.306858Z",
     "iopub.status.idle": "2021-11-30T13:53:38.521888Z",
     "shell.execute_reply": "2021-11-30T13:53:38.521122Z",
     "shell.execute_reply.started": "2021-11-30T12:54:31.888783Z"
    },
    "papermill": {
     "duration": 343.319482,
     "end_time": "2021-11-30T13:53:38.522074",
     "exception": false,
     "start_time": "2021-11-30T13:47:55.202592",
     "status": "completed"
    },
    "tags": []
   },
   "outputs": [
    {
     "name": "stdout",
     "output_type": "stream",
     "text": [
      "[CV] n_estimators=1800, min_samples_split=2, min_samples_leaf=4, max_features=auto, max_depth=60, bootstrap=False \n",
      "[CV]  n_estimators=1800, min_samples_split=2, min_samples_leaf=4, max_features=auto, max_depth=60, bootstrap=False, score=0.723, total= 1.2min\n",
      "[CV] n_estimators=800, min_samples_split=2, min_samples_leaf=4, max_features=sqrt, max_depth=10, bootstrap=True \n",
      "[CV]  n_estimators=800, min_samples_split=2, min_samples_leaf=4, max_features=sqrt, max_depth=10, bootstrap=True, score=0.560, total=  20.2s\n",
      "[CV] n_estimators=800, min_samples_split=2, min_samples_leaf=4, max_features=sqrt, max_depth=10, bootstrap=True \n",
      "[CV]  n_estimators=800, min_samples_split=2, min_samples_leaf=4, max_features=sqrt, max_depth=10, bootstrap=True, score=0.681, total=  19.4s\n",
      "[CV] n_estimators=1800, min_samples_split=2, min_samples_leaf=4, max_features=auto, max_depth=60, bootstrap=False \n",
      "[CV]  n_estimators=1800, min_samples_split=2, min_samples_leaf=4, max_features=auto, max_depth=60, bootstrap=False, score=0.540, total= 1.3min\n",
      "[CV] n_estimators=1800, min_samples_split=2, min_samples_leaf=4, max_features=auto, max_depth=60, bootstrap=False \n",
      "[CV]  n_estimators=1800, min_samples_split=2, min_samples_leaf=4, max_features=auto, max_depth=60, bootstrap=False, score=0.741, total= 1.1min\n",
      "[CV] n_estimators=2000, min_samples_split=5, min_samples_leaf=1, max_features=sqrt, max_depth=20, bootstrap=False \n",
      "[CV]  n_estimators=2000, min_samples_split=5, min_samples_leaf=1, max_features=sqrt, max_depth=20, bootstrap=False, score=0.756, total= 1.4min\n",
      "[CV] n_estimators=1400, min_samples_split=5, min_samples_leaf=2, max_features=auto, max_depth=20, bootstrap=False \n",
      "[CV]  n_estimators=1400, min_samples_split=5, min_samples_leaf=2, max_features=auto, max_depth=20, bootstrap=False, score=0.529, total= 1.1min\n",
      "[CV] n_estimators=1400, min_samples_split=5, min_samples_leaf=2, max_features=auto, max_depth=20, bootstrap=False \n",
      "[CV]  n_estimators=1400, min_samples_split=5, min_samples_leaf=2, max_features=auto, max_depth=20, bootstrap=False, score=0.747, total=  58.0s\n",
      "[CV] n_estimators=1800, min_samples_split=2, min_samples_leaf=4, max_features=auto, max_depth=60, bootstrap=False \n",
      "[CV]  n_estimators=1800, min_samples_split=2, min_samples_leaf=4, max_features=auto, max_depth=60, bootstrap=False, score=0.752, total= 1.2min\n",
      "[CV] n_estimators=800, min_samples_split=2, min_samples_leaf=4, max_features=sqrt, max_depth=10, bootstrap=True \n",
      "[CV]  n_estimators=800, min_samples_split=2, min_samples_leaf=4, max_features=sqrt, max_depth=10, bootstrap=True, score=0.733, total=  17.2s\n",
      "[CV] n_estimators=1800, min_samples_split=2, min_samples_leaf=4, max_features=auto, max_depth=60, bootstrap=False \n",
      "[CV]  n_estimators=1800, min_samples_split=2, min_samples_leaf=4, max_features=auto, max_depth=60, bootstrap=False, score=0.703, total= 1.2min\n",
      "[CV] n_estimators=800, min_samples_split=2, min_samples_leaf=4, max_features=sqrt, max_depth=10, bootstrap=True \n",
      "[CV]  n_estimators=800, min_samples_split=2, min_samples_leaf=4, max_features=sqrt, max_depth=10, bootstrap=True, score=0.697, total=  19.5s\n",
      "[CV] n_estimators=800, min_samples_split=2, min_samples_leaf=4, max_features=sqrt, max_depth=10, bootstrap=True \n",
      "[CV]  n_estimators=800, min_samples_split=2, min_samples_leaf=4, max_features=sqrt, max_depth=10, bootstrap=True, score=0.724, total=  14.1s\n",
      "The train f1_macro is: 0.9114717072856428\n",
      "The cross validation f1_macro is: 0.5305490040571836\n"
     ]
    }
   ],
   "source": [
    "rfc = RandomForestClassifier(n_estimators=1800,max_depth=20,max_features='sqrt',bootstrap=False, min_samples_leaf=2, min_samples_split=10,random_state=42)\n",
    "rfc.fit(result_kbest_20,y1_enco)\n",
    "cal_clf = CalibratedClassifierCV(rfc, method=\"sigmoid\")\n",
    "cal_clf.fit(result_kbest_20,y1_enco)\n",
    "predict_y =cal_clf .predict(result_kbest_20)\n",
    "print ('The train f1_macro is:',f1_score(y1_enco, predict_y,average='macro'))\n",
    "predict_y = cal_clf.predict(result_kbest_val)\n",
    "print('The cross validation f1_macro is:',f1_score(y1_en_val, predict_y,average='macro'))"
   ]
  },
  {
   "cell_type": "markdown",
   "id": "7dfb793a",
   "metadata": {
    "papermill": {
     "duration": 0.104028,
     "end_time": "2021-11-30T13:53:38.733123",
     "exception": false,
     "start_time": "2021-11-30T13:53:38.629095",
     "status": "completed"
    },
    "tags": []
   },
   "source": [
    "#### Disorder_subclass"
   ]
  },
  {
   "cell_type": "code",
   "execution_count": 62,
   "id": "89c6d12e",
   "metadata": {
    "execution": {
     "iopub.execute_input": "2021-11-30T13:53:38.946812Z",
     "iopub.status.busy": "2021-11-30T13:53:38.946129Z",
     "iopub.status.idle": "2021-11-30T13:53:38.948936Z",
     "shell.execute_reply": "2021-11-30T13:53:38.949461Z"
    },
    "papermill": {
     "duration": 0.112696,
     "end_time": "2021-11-30T13:53:38.949634",
     "exception": false,
     "start_time": "2021-11-30T13:53:38.836938",
     "status": "completed"
    },
    "tags": []
   },
   "outputs": [],
   "source": [
    "from imblearn.over_sampling import BorderlineSMOTE"
   ]
  },
  {
   "cell_type": "code",
   "execution_count": 63,
   "id": "343b4e61",
   "metadata": {
    "execution": {
     "iopub.execute_input": "2021-11-30T13:53:39.165503Z",
     "iopub.status.busy": "2021-11-30T13:53:39.164336Z",
     "iopub.status.idle": "2021-11-30T13:53:55.930590Z",
     "shell.execute_reply": "2021-11-30T13:53:55.929925Z",
     "shell.execute_reply.started": "2021-11-30T13:01:11.269615Z"
    },
    "papermill": {
     "duration": 16.8779,
     "end_time": "2021-11-30T13:53:55.930755",
     "exception": false,
     "start_time": "2021-11-30T13:53:39.052855",
     "status": "completed"
    },
    "tags": []
   },
   "outputs": [
    {
     "name": "stdout",
     "output_type": "stream",
     "text": [
      "shape of X before SMOTE: (13728, 48) \n",
      "shape of X after SMOTE: (31923, 48)\n",
      "balanced class (%):\n"
     ]
    },
    {
     "data": {
      "text/plain": [
       "0    11.111111\n",
       "1    11.111111\n",
       "2    11.111111\n",
       "3    11.111111\n",
       "4    11.111111\n",
       "5    11.111111\n",
       "6    11.111111\n",
       "7    11.111111\n",
       "8    11.111111\n",
       "dtype: float64"
      ]
     },
     "execution_count": 63,
     "metadata": {},
     "output_type": "execute_result"
    }
   ],
   "source": [
    "smd=BorderlineSMOTE(random_state=42)\n",
    "X_smd, y_smd = smd.fit_resample(X2, pd.DataFrame(y2_en))\n",
    "print(f'''shape of X before SMOTE: {X2.shape} \n",
    "shape of X after SMOTE: {X_smd.shape}''')\n",
    "print('balanced class (%):')\n",
    "y_smd.value_counts(normalize=True) * 100"
   ]
  },
  {
   "cell_type": "code",
   "execution_count": 64,
   "id": "a98c49c1",
   "metadata": {
    "execution": {
     "iopub.execute_input": "2021-11-30T13:53:56.172734Z",
     "iopub.status.busy": "2021-11-30T13:53:56.157378Z",
     "iopub.status.idle": "2021-11-30T13:53:56.188561Z",
     "shell.execute_reply": "2021-11-30T13:53:56.187852Z",
     "shell.execute_reply.started": "2021-11-30T13:01:30.393358Z"
    },
    "papermill": {
     "duration": 0.146462,
     "end_time": "2021-11-30T13:53:56.188719",
     "exception": false,
     "start_time": "2021-11-30T13:53:56.042257",
     "status": "completed"
    },
    "tags": []
   },
   "outputs": [
    {
     "data": {
      "text/html": [
       "<div>\n",
       "<style scoped>\n",
       "    .dataframe tbody tr th:only-of-type {\n",
       "        vertical-align: middle;\n",
       "    }\n",
       "\n",
       "    .dataframe tbody tr th {\n",
       "        vertical-align: top;\n",
       "    }\n",
       "\n",
       "    .dataframe thead th {\n",
       "        text-align: right;\n",
       "    }\n",
       "</style>\n",
       "<table border=\"1\" class=\"dataframe\">\n",
       "  <thead>\n",
       "    <tr style=\"text-align: right;\">\n",
       "      <th></th>\n",
       "      <th>patient_age</th>\n",
       "      <th>defective_mother</th>\n",
       "      <th>defective_father</th>\n",
       "      <th>maternal_gene</th>\n",
       "      <th>paternal_gene</th>\n",
       "      <th>blood_cell_count</th>\n",
       "      <th>mother_age</th>\n",
       "      <th>father_age</th>\n",
       "      <th>Status</th>\n",
       "      <th>respiratory_rate</th>\n",
       "      <th>...</th>\n",
       "      <th>radiation_exposure_Yes</th>\n",
       "      <th>radiation_exposure_others</th>\n",
       "      <th>substance_abuse_No</th>\n",
       "      <th>substance_abuse_Not applicable</th>\n",
       "      <th>substance_abuse_Yes</th>\n",
       "      <th>substance_abuse_others</th>\n",
       "      <th>blood_test_result_abnormal</th>\n",
       "      <th>blood_test_result_inconclusive</th>\n",
       "      <th>blood_test_result_normal</th>\n",
       "      <th>blood_test_result_slightly abnormal</th>\n",
       "    </tr>\n",
       "  </thead>\n",
       "  <tbody>\n",
       "    <tr>\n",
       "      <th>0</th>\n",
       "      <td>0.500000</td>\n",
       "      <td>1.0</td>\n",
       "      <td>1.0</td>\n",
       "      <td>0.0</td>\n",
       "      <td>0.0</td>\n",
       "      <td>0.427495</td>\n",
       "      <td>0.545455</td>\n",
       "      <td>0.795455</td>\n",
       "      <td>0.0</td>\n",
       "      <td>0.0</td>\n",
       "      <td>...</td>\n",
       "      <td>1.0</td>\n",
       "      <td>0.0</td>\n",
       "      <td>0.0</td>\n",
       "      <td>0.0</td>\n",
       "      <td>1.0</td>\n",
       "      <td>0.0</td>\n",
       "      <td>0.0</td>\n",
       "      <td>0.0</td>\n",
       "      <td>1.0</td>\n",
       "      <td>0.0</td>\n",
       "    </tr>\n",
       "    <tr>\n",
       "      <th>1</th>\n",
       "      <td>0.928571</td>\n",
       "      <td>1.0</td>\n",
       "      <td>0.0</td>\n",
       "      <td>1.0</td>\n",
       "      <td>0.0</td>\n",
       "      <td>0.485132</td>\n",
       "      <td>1.000000</td>\n",
       "      <td>0.500000</td>\n",
       "      <td>1.0</td>\n",
       "      <td>0.0</td>\n",
       "      <td>...</td>\n",
       "      <td>0.0</td>\n",
       "      <td>1.0</td>\n",
       "      <td>0.0</td>\n",
       "      <td>0.0</td>\n",
       "      <td>0.0</td>\n",
       "      <td>1.0</td>\n",
       "      <td>0.0</td>\n",
       "      <td>0.0</td>\n",
       "      <td>0.0</td>\n",
       "      <td>1.0</td>\n",
       "    </tr>\n",
       "  </tbody>\n",
       "</table>\n",
       "<p>2 rows × 48 columns</p>\n",
       "</div>"
      ],
      "text/plain": [
       "   patient_age  defective_mother  defective_father  maternal_gene  \\\n",
       "0     0.500000               1.0               1.0            0.0   \n",
       "1     0.928571               1.0               0.0            1.0   \n",
       "\n",
       "   paternal_gene  blood_cell_count  mother_age  father_age  Status  \\\n",
       "0            0.0          0.427495    0.545455    0.795455     0.0   \n",
       "1            0.0          0.485132    1.000000    0.500000     1.0   \n",
       "\n",
       "   respiratory_rate  ...  radiation_exposure_Yes  radiation_exposure_others  \\\n",
       "0               0.0  ...                     1.0                        0.0   \n",
       "1               0.0  ...                     0.0                        1.0   \n",
       "\n",
       "   substance_abuse_No  substance_abuse_Not applicable  substance_abuse_Yes  \\\n",
       "0                 0.0                             0.0                  1.0   \n",
       "1                 0.0                             0.0                  0.0   \n",
       "\n",
       "   substance_abuse_others  blood_test_result_abnormal  \\\n",
       "0                     0.0                         0.0   \n",
       "1                     1.0                         0.0   \n",
       "\n",
       "   blood_test_result_inconclusive  blood_test_result_normal  \\\n",
       "0                             0.0                       1.0   \n",
       "1                             0.0                       0.0   \n",
       "\n",
       "   blood_test_result_slightly abnormal  \n",
       "0                                  0.0  \n",
       "1                                  1.0  \n",
       "\n",
       "[2 rows x 48 columns]"
      ]
     },
     "execution_count": 64,
     "metadata": {},
     "output_type": "execute_result"
    }
   ],
   "source": [
    "X_smd.head(2)"
   ]
  },
  {
   "cell_type": "code",
   "execution_count": 65,
   "id": "5f2a6f4a",
   "metadata": {
    "execution": {
     "iopub.execute_input": "2021-11-30T13:53:56.409536Z",
     "iopub.status.busy": "2021-11-30T13:53:56.408820Z",
     "iopub.status.idle": "2021-11-30T13:53:56.411540Z",
     "shell.execute_reply": "2021-11-30T13:53:56.410939Z",
     "shell.execute_reply.started": "2021-11-30T13:01:30.423615Z"
    },
    "papermill": {
     "duration": 0.114826,
     "end_time": "2021-11-30T13:53:56.411714",
     "exception": false,
     "start_time": "2021-11-30T13:53:56.296888",
     "status": "completed"
    },
    "tags": []
   },
   "outputs": [],
   "source": [
    "y2_enco=np.array(y_smd).ravel()"
   ]
  },
  {
   "cell_type": "code",
   "execution_count": 66,
   "id": "7aa8ea32",
   "metadata": {
    "execution": {
     "iopub.execute_input": "2021-11-30T13:53:56.630322Z",
     "iopub.status.busy": "2021-11-30T13:53:56.629585Z",
     "iopub.status.idle": "2021-11-30T13:53:56.633221Z",
     "shell.execute_reply": "2021-11-30T13:53:56.633948Z",
     "shell.execute_reply.started": "2021-11-30T13:01:30.431307Z"
    },
    "papermill": {
     "duration": 0.115419,
     "end_time": "2021-11-30T13:53:56.634144",
     "exception": false,
     "start_time": "2021-11-30T13:53:56.518725",
     "status": "completed"
    },
    "tags": []
   },
   "outputs": [],
   "source": [
    "from sklearn.feature_selection import SelectKBest,chi2"
   ]
  },
  {
   "cell_type": "code",
   "execution_count": 67,
   "id": "c9917a52",
   "metadata": {
    "execution": {
     "iopub.execute_input": "2021-11-30T13:53:56.856877Z",
     "iopub.status.busy": "2021-11-30T13:53:56.856139Z",
     "iopub.status.idle": "2021-11-30T13:53:56.890121Z",
     "shell.execute_reply": "2021-11-30T13:53:56.891273Z",
     "shell.execute_reply.started": "2021-11-30T13:01:30.445329Z"
    },
    "papermill": {
     "duration": 0.148082,
     "end_time": "2021-11-30T13:53:56.891619",
     "exception": false,
     "start_time": "2021-11-30T13:53:56.743537",
     "status": "completed"
    },
    "tags": []
   },
   "outputs": [],
   "source": [
    "# feature selection \n",
    "sel2=SelectKBest(chi2, k=25).fit(X_smd,y2_enco)"
   ]
  },
  {
   "cell_type": "code",
   "execution_count": 68,
   "id": "a8041dfa",
   "metadata": {
    "execution": {
     "iopub.execute_input": "2021-11-30T13:53:57.178414Z",
     "iopub.status.busy": "2021-11-30T13:53:57.177579Z",
     "iopub.status.idle": "2021-11-30T13:53:57.181054Z",
     "shell.execute_reply": "2021-11-30T13:53:57.181642Z",
     "shell.execute_reply.started": "2021-11-30T13:01:30.498522Z"
    },
    "papermill": {
     "duration": 0.124401,
     "end_time": "2021-11-30T13:53:57.181857",
     "exception": false,
     "start_time": "2021-11-30T13:53:57.057456",
     "status": "completed"
    },
    "tags": []
   },
   "outputs": [
    {
     "name": "stdout",
     "output_type": "stream",
     "text": [
      "(31923, 25)\n"
     ]
    }
   ],
   "source": [
    "cols=sel2.get_support(indices=True)\n",
    "print(X_smd.iloc[:,cols].shape)\n",
    "result_kbest_20d=X_smd.iloc[:,cols]"
   ]
  },
  {
   "cell_type": "code",
   "execution_count": 69,
   "id": "dc282bae",
   "metadata": {
    "execution": {
     "iopub.execute_input": "2021-11-30T13:53:57.402645Z",
     "iopub.status.busy": "2021-11-30T13:53:57.401901Z",
     "iopub.status.idle": "2021-11-30T13:53:57.406922Z",
     "shell.execute_reply": "2021-11-30T13:53:57.407604Z",
     "shell.execute_reply.started": "2021-11-30T13:01:30.527304Z"
    },
    "papermill": {
     "duration": 0.117525,
     "end_time": "2021-11-30T13:53:57.407805",
     "exception": false,
     "start_time": "2021-11-30T13:53:57.290280",
     "status": "completed"
    },
    "tags": []
   },
   "outputs": [
    {
     "name": "stdout",
     "output_type": "stream",
     "text": [
      "Index(['paternal_gene', 'Status', 'respiratory_rate', 'heart_rate',\n",
      "       'previous_pregnancy_anomalies', 'Symptom 2', 'Symptom 3', 'Symptom 4',\n",
      "       'Symptom 5', 'Gender_Ambiguous', 'Gender_Female', 'birth_asphyxia_No',\n",
      "       'birth_asphyxia_No record', 'birth_asphyxia_Yes',\n",
      "       'birth_defect_autopsy_No', 'birth_defect_autopsy_None',\n",
      "       'birth_defect_autopsy_Not applicable', 'radiation_exposure_No',\n",
      "       'radiation_exposure_Not applicable', 'radiation_exposure_Yes',\n",
      "       'substance_abuse_No', 'substance_abuse_Not applicable',\n",
      "       'substance_abuse_others', 'blood_test_result_abnormal',\n",
      "       'blood_test_result_inconclusive'],\n",
      "      dtype='object')\n"
     ]
    }
   ],
   "source": [
    "sele_fead= X2.columns[(sel2.get_support())]\n",
    "print(sele_fead)"
   ]
  },
  {
   "cell_type": "code",
   "execution_count": 70,
   "id": "cce34a1b",
   "metadata": {
    "execution": {
     "iopub.execute_input": "2021-11-30T13:53:57.625164Z",
     "iopub.status.busy": "2021-11-30T13:53:57.624293Z",
     "iopub.status.idle": "2021-11-30T13:53:57.630135Z",
     "shell.execute_reply": "2021-11-30T13:53:57.630713Z",
     "shell.execute_reply.started": "2021-11-30T13:01:37.027988Z"
    },
    "papermill": {
     "duration": 0.119065,
     "end_time": "2021-11-30T13:53:57.630936",
     "exception": false,
     "start_time": "2021-11-30T13:53:57.511871",
     "status": "completed"
    },
    "tags": []
   },
   "outputs": [
    {
     "name": "stdout",
     "output_type": "stream",
     "text": [
      "(3432, 25)\n"
     ]
    }
   ],
   "source": [
    "print(X2_val.iloc[:,cols].shape)\n",
    "result_kbest_vald=X2_val.iloc[:,cols]"
   ]
  },
  {
   "cell_type": "code",
   "execution_count": 71,
   "id": "d475a5ea",
   "metadata": {
    "execution": {
     "iopub.execute_input": "2021-11-30T13:53:57.892833Z",
     "iopub.status.busy": "2021-11-30T13:53:57.891694Z",
     "iopub.status.idle": "2021-11-30T13:53:57.899714Z",
     "shell.execute_reply": "2021-11-30T13:53:57.899130Z",
     "shell.execute_reply.started": "2021-11-30T13:01:38.139374Z"
    },
    "papermill": {
     "duration": 0.162901,
     "end_time": "2021-11-30T13:53:57.899894",
     "exception": false,
     "start_time": "2021-11-30T13:53:57.736993",
     "status": "completed"
    },
    "tags": []
   },
   "outputs": [
    {
     "name": "stdout",
     "output_type": "stream",
     "text": [
      "(9290, 25)\n"
     ]
    }
   ],
   "source": [
    "print(X2_test.iloc[:,cols].shape)\n",
    "result_kbest_test20d=X2_test.iloc[:,cols]"
   ]
  },
  {
   "cell_type": "code",
   "execution_count": 72,
   "id": "fc059b34",
   "metadata": {
    "execution": {
     "iopub.execute_input": "2021-11-30T13:53:58.134353Z",
     "iopub.status.busy": "2021-11-30T13:53:58.133569Z",
     "iopub.status.idle": "2021-11-30T13:57:24.837333Z",
     "shell.execute_reply": "2021-11-30T13:57:24.836674Z",
     "shell.execute_reply.started": "2021-11-30T13:01:41.193607Z"
    },
    "papermill": {
     "duration": 206.826889,
     "end_time": "2021-11-30T13:57:24.837510",
     "exception": false,
     "start_time": "2021-11-30T13:53:58.010621",
     "status": "completed"
    },
    "tags": []
   },
   "outputs": [
    {
     "name": "stdout",
     "output_type": "stream",
     "text": [
      "f1_macro for k =  1 is 0.11798221256907085\n",
      "f1_macro for k =  3 is 0.117557268365374\n",
      "f1_macro for k =  5 is 0.10850470359522256\n",
      "f1_macro for k =  7 is 0.11155283681733891\n",
      "f1_macro for k =  9 is 0.10994532927596219\n",
      "f1_macro for k =  11 is 0.10990056825934273\n",
      "f1_macro for k =  13 is 0.11125679709403108\n",
      "For values of best nn =  1 The train f1_macro is: 0.9916020700415566\n",
      "For values of best nn =  1 The cross validation f1_macro is: 0.11798221256907085\n"
     ]
    }
   ],
   "source": [
    "nn=[x for x in range(1, 15, 2)]\n",
    "cv_f1_macro=[]\n",
    "for i in nn:\n",
    "    knn=KNeighborsClassifier(n_neighbors=i,n_jobs=-1)\n",
    "    knn.fit(result_kbest_20d,y2_enco)\n",
    "    cal_clf = CalibratedClassifierCV(knn, method=\"sigmoid\")\n",
    "    cal_clf.fit(result_kbest_20d,y2_enco)\n",
    "    predict_y=cal_clf.predict(result_kbest_vald)\n",
    "    cv_f1_macro.append(f1_score(y2_en_val, predict_y,average='macro'))\n",
    "for i in range(len(cv_f1_macro)):\n",
    "    print ('f1_macro for k = ',nn[i],'is',cv_f1_macro[i])\n",
    "best_nn = np.argmax(cv_f1_macro)\n",
    "knn=KNeighborsClassifier(n_neighbors=nn[best_nn])\n",
    "knn.fit(result_kbest_20d,y2_enco)\n",
    "cal_clf = CalibratedClassifierCV(knn, method=\"sigmoid\")\n",
    "cal_clf.fit(result_kbest_20d,y2_enco)\n",
    "\n",
    "predict_y =cal_clf .predict(result_kbest_20d)\n",
    "print ('For values of best nn = ', nn[best_nn], \"The train f1_macro is:\",f1_score(y2_enco, predict_y,average='macro'))\n",
    "predict_y = cal_clf.predict(result_kbest_vald)\n",
    "print('For values of best nn = ', nn[best_nn], \"The cross validation f1_macro is:\",f1_score(y2_en_val, predict_y,average='macro'))"
   ]
  },
  {
   "cell_type": "code",
   "execution_count": 73,
   "id": "1e1e1a8d",
   "metadata": {
    "execution": {
     "iopub.execute_input": "2021-11-30T13:57:25.068224Z",
     "iopub.status.busy": "2021-11-30T13:57:25.067409Z",
     "iopub.status.idle": "2021-11-30T14:05:37.494887Z",
     "shell.execute_reply": "2021-11-30T14:05:37.496006Z",
     "shell.execute_reply.started": "2021-11-30T13:06:33.818692Z"
    },
    "papermill": {
     "duration": 492.549004,
     "end_time": "2021-11-30T14:05:37.496379",
     "exception": false,
     "start_time": "2021-11-30T13:57:24.947375",
     "status": "completed"
    },
    "tags": []
   },
   "outputs": [
    {
     "name": "stdout",
     "output_type": "stream",
     "text": [
      "f1_macro for C =  1e-05 is 0.07681743035091818\n",
      "f1_macro for C =  0.0001 is 0.0768741929729218\n",
      "f1_macro for C =  0.001 is 0.07418712629889997\n",
      "f1_macro for C =  0.01 is 0.0732061028153526\n",
      "f1_macro for C =  0.1 is 0.07113189566268528\n",
      "f1_macro for C =  1 is 0.06813013917100684\n",
      "f1_macro for C =  10 is 0.06915723395433425\n",
      "f1_macro for C =  100 is 0.06942388390433447\n",
      "f1_macro for C =  1000 is 0.06922278624090679\n",
      "For values of best C =  0.0001 The train f1_macro is: 0.28731830875839504\n",
      "For values of best C =  0.0001 The cross validation f1_macro is: 0.0768741929729218\n"
     ]
    }
   ],
   "source": [
    "C1= [10 ** x for x in range(-5, 4)]\n",
    "cv_f1_macro=[]\n",
    "for i in C1:\n",
    "    logisticR=LogisticRegression(penalty='l2',C=i,class_weight='balanced',max_iter=1000)\n",
    "    logisticR.fit(result_kbest_20d,y2_enco)\n",
    "    cal_clf = CalibratedClassifierCV(logisticR, method=\"sigmoid\")\n",
    "    cal_clf.fit(result_kbest_20d,y2_enco)\n",
    "    predict_y=cal_clf.predict(result_kbest_vald)\n",
    "    cv_f1_macro.append(f1_score(y2_en_val, predict_y,average='macro'))\n",
    "for i in range(len(cv_f1_macro)):\n",
    "    print ('f1_macro for C = ',C1[i],'is',cv_f1_macro[i])\n",
    "best_C1 = np.argmax(cv_f1_macro)\n",
    "logisticR=LogisticRegression(penalty='l2',C=C1[best_C1],class_weight='balanced',max_iter=1000)\n",
    "logisticR.fit(result_kbest_20d,y2_enco)\n",
    "cal_clf = CalibratedClassifierCV(logisticR, method=\"sigmoid\")\n",
    "cal_clf.fit(result_kbest_20d,y2_enco)\n",
    "\n",
    "predict_y =cal_clf .predict(result_kbest_20d)\n",
    "print ('For values of best C = ',C1[best_C1], \"The train f1_macro is:\",f1_score(y2_enco, predict_y,average='macro'))\n",
    "predict_y = cal_clf.predict(result_kbest_vald)\n",
    "print('For values of best C = ',C1[best_C1], \"The cross validation f1_macro is:\",f1_score(y2_en_val, predict_y,average='macro'))"
   ]
  },
  {
   "cell_type": "code",
   "execution_count": 74,
   "id": "79e2ca5f",
   "metadata": {
    "execution": {
     "iopub.execute_input": "2021-11-30T14:05:37.781766Z",
     "iopub.status.busy": "2021-11-30T14:05:37.781060Z",
     "iopub.status.idle": "2021-11-30T14:05:45.099337Z",
     "shell.execute_reply": "2021-11-30T14:05:45.099898Z",
     "shell.execute_reply.started": "2021-11-30T13:14:22.695321Z"
    },
    "papermill": {
     "duration": 7.43853,
     "end_time": "2021-11-30T14:05:45.100089",
     "exception": false,
     "start_time": "2021-11-30T14:05:37.661559",
     "status": "completed"
    },
    "tags": []
   },
   "outputs": [
    {
     "data": {
      "text/plain": [
       "RandomizedSearchCV(estimator=DecisionTreeClassifier(random_state=42), n_jobs=-1,\n",
       "                   param_distributions={'criterion': ['gini', 'entropy'],\n",
       "                                        'max_depth': [2, 3, 5, 10, 20],\n",
       "                                        'min_samples_leaf': [10, 20, 50, 100]},\n",
       "                   random_state=42)"
      ]
     },
     "execution_count": 74,
     "metadata": {},
     "output_type": "execute_result"
    }
   ],
   "source": [
    "DT = DecisionTreeClassifier(random_state=42)\n",
    "params = {\n",
    "    'max_depth': [2, 3, 5, 10, 20],\n",
    "    'min_samples_leaf': [10, 20, 50, 100],\n",
    "    'criterion': [\"gini\", \"entropy\"]\n",
    "}\n",
    "random_dt=RandomizedSearchCV(DT,param_distributions=params,n_jobs=-1,random_state=42)\n",
    "random_dt.fit(result_kbest_20d,y2_enco)"
   ]
  },
  {
   "cell_type": "code",
   "execution_count": 75,
   "id": "db36305a",
   "metadata": {
    "execution": {
     "iopub.execute_input": "2021-11-30T14:05:45.322535Z",
     "iopub.status.busy": "2021-11-30T14:05:45.321815Z",
     "iopub.status.idle": "2021-11-30T14:05:45.327348Z",
     "shell.execute_reply": "2021-11-30T14:05:45.327969Z",
     "shell.execute_reply.started": "2021-11-30T13:14:30.058317Z"
    },
    "papermill": {
     "duration": 0.119133,
     "end_time": "2021-11-30T14:05:45.328165",
     "exception": false,
     "start_time": "2021-11-30T14:05:45.209032",
     "status": "completed"
    },
    "tags": []
   },
   "outputs": [
    {
     "name": "stdout",
     "output_type": "stream",
     "text": [
      "DecisionTreeClassifier(max_depth=20, min_samples_leaf=10, random_state=42)\n"
     ]
    }
   ],
   "source": [
    "print(random_dt.best_estimator_)"
   ]
  },
  {
   "cell_type": "code",
   "execution_count": 76,
   "id": "ba70baac",
   "metadata": {
    "execution": {
     "iopub.execute_input": "2021-11-30T14:05:45.559322Z",
     "iopub.status.busy": "2021-11-30T14:05:45.558613Z",
     "iopub.status.idle": "2021-11-30T14:05:45.563369Z",
     "shell.execute_reply": "2021-11-30T14:05:45.564088Z",
     "shell.execute_reply.started": "2021-11-30T13:14:30.066761Z"
    },
    "papermill": {
     "duration": 0.125175,
     "end_time": "2021-11-30T14:05:45.564285",
     "exception": false,
     "start_time": "2021-11-30T14:05:45.439110",
     "status": "completed"
    },
    "tags": []
   },
   "outputs": [
    {
     "name": "stdout",
     "output_type": "stream",
     "text": [
      "0.4840106383813881\n"
     ]
    }
   ],
   "source": [
    "print(random_dt.best_score_)"
   ]
  },
  {
   "cell_type": "code",
   "execution_count": 77,
   "id": "7693d56a",
   "metadata": {
    "execution": {
     "iopub.execute_input": "2021-11-30T14:05:45.792921Z",
     "iopub.status.busy": "2021-11-30T14:05:45.791819Z",
     "iopub.status.idle": "2021-11-30T14:05:47.475218Z",
     "shell.execute_reply": "2021-11-30T14:05:47.474618Z",
     "shell.execute_reply.started": "2021-11-30T13:14:40.962226Z"
    },
    "papermill": {
     "duration": 1.799367,
     "end_time": "2021-11-30T14:05:47.475389",
     "exception": false,
     "start_time": "2021-11-30T14:05:45.676022",
     "status": "completed"
    },
    "tags": []
   },
   "outputs": [
    {
     "name": "stdout",
     "output_type": "stream",
     "text": [
      "The train f1_macro is: 0.7143007036282261\n",
      "The cross validation f1_macro is: 0.10255240187855247\n"
     ]
    }
   ],
   "source": [
    "DT = DecisionTreeClassifier(max_depth=20,min_samples_leaf=10,random_state=42)\n",
    "DT.fit(result_kbest_20d,y2_enco)\n",
    "cal_clf = CalibratedClassifierCV(DT, method=\"sigmoid\")\n",
    "cal_clf.fit(result_kbest_20d,y2_enco)\n",
    "predict_y =cal_clf .predict(result_kbest_20d)\n",
    "print ('The train f1_macro is:',f1_score(y2_enco, predict_y,average='macro'))\n",
    "predict_y = cal_clf.predict(result_kbest_vald)\n",
    "print('The cross validation f1_macro is:',f1_score(y2_en_val, predict_y,average='macro'))"
   ]
  },
  {
   "cell_type": "code",
   "execution_count": 78,
   "id": "306ef5d7",
   "metadata": {
    "execution": {
     "iopub.execute_input": "2021-11-30T14:05:47.710432Z",
     "iopub.status.busy": "2021-11-30T14:05:47.709210Z",
     "iopub.status.idle": "2021-11-30T14:17:57.408103Z",
     "shell.execute_reply": "2021-11-30T14:17:57.408691Z"
    },
    "papermill": {
     "duration": 729.819733,
     "end_time": "2021-11-30T14:17:57.408911",
     "exception": false,
     "start_time": "2021-11-30T14:05:47.589178",
     "status": "completed"
    },
    "tags": []
   },
   "outputs": [
    {
     "name": "stderr",
     "output_type": "stream",
     "text": [
      "/opt/conda/lib/python3.7/site-packages/joblib/externals/loky/process_executor.py:691: UserWarning: A worker stopped while some jobs were given to the executor. This can be caused by a too short worker timeout or by a memory leak.\n",
      "  \"timeout or by a memory leak.\", UserWarning\n"
     ]
    },
    {
     "data": {
      "text/plain": [
       "RandomizedSearchCV(estimator=RandomForestClassifier(random_state=42), n_jobs=-1,\n",
       "                   param_distributions={'bootstrap': [True, False],\n",
       "                                        'max_depth': [10, 20, 30, 40, 50, 60],\n",
       "                                        'max_features': ['auto', 'sqrt'],\n",
       "                                        'min_samples_leaf': [1, 2, 4],\n",
       "                                        'min_samples_split': [2, 5, 10, 15],\n",
       "                                        'n_estimators': [200, 400, 500, 600,\n",
       "                                                         800, 1000, 1200, 1400,\n",
       "                                                         1600, 1800, 2000]},\n",
       "                   random_state=42)"
      ]
     },
     "execution_count": 78,
     "metadata": {},
     "output_type": "execute_result"
    }
   ],
   "source": [
    "rfc1=r_cfl=RandomForestClassifier(random_state=42)\n",
    "params1={'bootstrap': [True, False],\n",
    " 'max_depth': [10, 20, 30, 40, 50, 60],\n",
    " 'max_features': ['auto', 'sqrt'],\n",
    " 'min_samples_leaf': [1, 2, 4],\n",
    " 'min_samples_split': [2, 5, 10,15],\n",
    " 'n_estimators': [200, 400, 500, 600, 800, 1000, 1200, 1400, 1600, 1800, 2000]}\n",
    "random_rfc1=RandomizedSearchCV(rfc1,param_distributions=params1,n_jobs=-1,random_state=42)\n",
    "random_rfc1.fit(result_kbest_20d,y2_enco)"
   ]
  },
  {
   "cell_type": "code",
   "execution_count": 79,
   "id": "c6957543",
   "metadata": {
    "execution": {
     "iopub.execute_input": "2021-11-30T14:17:57.638413Z",
     "iopub.status.busy": "2021-11-30T14:17:57.637713Z",
     "iopub.status.idle": "2021-11-30T14:17:57.640701Z",
     "shell.execute_reply": "2021-11-30T14:17:57.641578Z"
    },
    "papermill": {
     "duration": 0.119889,
     "end_time": "2021-11-30T14:17:57.641852",
     "exception": false,
     "start_time": "2021-11-30T14:17:57.521963",
     "status": "completed"
    },
    "tags": []
   },
   "outputs": [
    {
     "name": "stdout",
     "output_type": "stream",
     "text": [
      "RandomForestClassifier(bootstrap=False, max_depth=30, min_samples_leaf=2,\n",
      "                       min_samples_split=5, n_estimators=500, random_state=42)\n"
     ]
    }
   ],
   "source": [
    "print(random_rfc1.best_estimator_)"
   ]
  },
  {
   "cell_type": "code",
   "execution_count": 80,
   "id": "5577e191",
   "metadata": {
    "execution": {
     "iopub.execute_input": "2021-11-30T14:17:57.873145Z",
     "iopub.status.busy": "2021-11-30T14:17:57.871127Z",
     "iopub.status.idle": "2021-11-30T14:17:57.876455Z",
     "shell.execute_reply": "2021-11-30T14:17:57.877328Z"
    },
    "papermill": {
     "duration": 0.121279,
     "end_time": "2021-11-30T14:17:57.877592",
     "exception": false,
     "start_time": "2021-11-30T14:17:57.756313",
     "status": "completed"
    },
    "tags": []
   },
   "outputs": [
    {
     "name": "stdout",
     "output_type": "stream",
     "text": [
      "0.631682652206083\n"
     ]
    }
   ],
   "source": [
    "print(random_rfc1.best_score_)"
   ]
  },
  {
   "cell_type": "code",
   "execution_count": 81,
   "id": "64509ff7",
   "metadata": {
    "execution": {
     "iopub.execute_input": "2021-11-30T14:17:58.109574Z",
     "iopub.status.busy": "2021-11-30T14:17:58.108465Z",
     "iopub.status.idle": "2021-11-30T14:21:02.191221Z",
     "shell.execute_reply": "2021-11-30T14:21:02.190443Z",
     "shell.execute_reply.started": "2021-11-30T13:19:23.699511Z"
    },
    "papermill": {
     "duration": 184.199891,
     "end_time": "2021-11-30T14:21:02.191395",
     "exception": false,
     "start_time": "2021-11-30T14:17:57.991504",
     "status": "completed"
    },
    "tags": []
   },
   "outputs": [
    {
     "name": "stdout",
     "output_type": "stream",
     "text": [
      "The train f1_macro is: 0.9840593680161618\n",
      "The cross validation f1_macro is: 0.104417316187305\n"
     ]
    }
   ],
   "source": [
    "rfc1= RandomForestClassifier(n_estimators=500,max_depth=30,min_samples_leaf=2,min_samples_split=5,bootstrap=False,random_state=42)\n",
    "rfc1.fit(result_kbest_20d,y2_enco)\n",
    "cal_clf = CalibratedClassifierCV(rfc1, method=\"sigmoid\")\n",
    "cal_clf.fit(result_kbest_20d,y2_enco)\n",
    "predict_y =cal_clf .predict(result_kbest_20d)\n",
    "print ('The train f1_macro is:',f1_score(y2_enco, predict_y,average='macro'))\n",
    "predict_y = cal_clf.predict(result_kbest_vald)\n",
    "print('The cross validation f1_macro is:',f1_score(y2_en_val, predict_y,average='macro'))"
   ]
  },
  {
   "cell_type": "code",
   "execution_count": 82,
   "id": "7ac7ddd8",
   "metadata": {
    "execution": {
     "iopub.execute_input": "2021-11-30T14:21:02.422289Z",
     "iopub.status.busy": "2021-11-30T14:21:02.421522Z",
     "iopub.status.idle": "2021-11-30T14:21:02.423680Z",
     "shell.execute_reply": "2021-11-30T14:21:02.424392Z",
     "shell.execute_reply.started": "2021-11-30T13:22:57.492135Z"
    },
    "papermill": {
     "duration": 0.121134,
     "end_time": "2021-11-30T14:21:02.424587",
     "exception": false,
     "start_time": "2021-11-30T14:21:02.303453",
     "status": "completed"
    },
    "tags": []
   },
   "outputs": [],
   "source": [
    "from prettytable import PrettyTable"
   ]
  },
  {
   "cell_type": "code",
   "execution_count": 83,
   "id": "9c584c9e",
   "metadata": {
    "execution": {
     "iopub.execute_input": "2021-11-30T14:21:02.658010Z",
     "iopub.status.busy": "2021-11-30T14:21:02.654734Z",
     "iopub.status.idle": "2021-11-30T14:21:02.660952Z",
     "shell.execute_reply": "2021-11-30T14:21:02.660313Z",
     "shell.execute_reply.started": "2021-11-30T13:23:37.967003Z"
    },
    "papermill": {
     "duration": 0.122265,
     "end_time": "2021-11-30T14:21:02.661217",
     "exception": false,
     "start_time": "2021-11-30T14:21:02.538952",
     "status": "completed"
    },
    "tags": []
   },
   "outputs": [],
   "source": [
    "Pred_gene = PrettyTable([\"Model\", \"Average_F1_Score\"])\n",
    "Pred_gene.add_row(['KNN','28.50'])\n",
    "Pred_gene.add_row(['Logistic_Regression','25.80'])\n",
    "Pred_gene.add_row(['Decision_Tree','32.69'])\n",
    "Pred_gene.add_row(['RFC','31.49'])"
   ]
  },
  {
   "cell_type": "code",
   "execution_count": 84,
   "id": "011a5e2e",
   "metadata": {
    "execution": {
     "iopub.execute_input": "2021-11-30T14:21:02.893006Z",
     "iopub.status.busy": "2021-11-30T14:21:02.892260Z",
     "iopub.status.idle": "2021-11-30T14:21:02.898090Z",
     "shell.execute_reply": "2021-11-30T14:21:02.898800Z",
     "shell.execute_reply.started": "2021-11-30T13:23:40.409930Z"
    },
    "papermill": {
     "duration": 0.122975,
     "end_time": "2021-11-30T14:21:02.898998",
     "exception": false,
     "start_time": "2021-11-30T14:21:02.776023",
     "status": "completed"
    },
    "tags": []
   },
   "outputs": [
    {
     "name": "stdout",
     "output_type": "stream",
     "text": [
      "+---------------------+------------------+\n",
      "|        Model        | Average_F1_Score |\n",
      "+---------------------+------------------+\n",
      "|         KNN         |      28.50       |\n",
      "| Logistic_Regression |      25.80       |\n",
      "|    Decision_Tree    |      32.69       |\n",
      "|         RFC         |      31.49       |\n",
      "+---------------------+------------------+\n"
     ]
    }
   ],
   "source": [
    "print(Pred_gene)"
   ]
  },
  {
   "cell_type": "markdown",
   "id": "0fc5bad1",
   "metadata": {
    "papermill": {
     "duration": 0.11635,
     "end_time": "2021-11-30T14:21:03.130203",
     "exception": false,
     "start_time": "2021-11-30T14:21:03.013853",
     "status": "completed"
    },
    "tags": []
   },
   "source": [
    "#### Final Model"
   ]
  },
  {
   "cell_type": "code",
   "execution_count": 85,
   "id": "f88f9802",
   "metadata": {
    "execution": {
     "iopub.execute_input": "2021-11-30T14:21:03.361585Z",
     "iopub.status.busy": "2021-11-30T14:21:03.360810Z",
     "iopub.status.idle": "2021-11-30T14:21:04.038950Z",
     "shell.execute_reply": "2021-11-30T14:21:04.038336Z",
     "shell.execute_reply.started": "2021-11-30T13:23:44.241439Z"
    },
    "papermill": {
     "duration": 0.794868,
     "end_time": "2021-11-30T14:21:04.039117",
     "exception": false,
     "start_time": "2021-11-30T14:21:03.244249",
     "status": "completed"
    },
    "tags": []
   },
   "outputs": [
    {
     "name": "stdout",
     "output_type": "stream",
     "text": [
      "The train f1_macro is: 0.6962763768501664\n"
     ]
    }
   ],
   "source": [
    "DT = DecisionTreeClassifier(max_depth=20,min_samples_leaf=50,random_state=42)\n",
    "DT.fit(result_kbest_20,y1_enco)\n",
    "cal_clf = CalibratedClassifierCV(DT, method=\"sigmoid\")\n",
    "cal_clf.fit(result_kbest_20,y1_enco)\n",
    "predict_y =cal_clf .predict(result_kbest_20)\n",
    "print ('The train f1_macro is:',f1_score(y1_enco, predict_y,average='macro'))\n",
    "predict_y = cal_clf.predict(result_kbest_test20)"
   ]
  },
  {
   "cell_type": "code",
   "execution_count": 86,
   "id": "66d5bb57",
   "metadata": {
    "execution": {
     "iopub.execute_input": "2021-11-30T14:21:04.272332Z",
     "iopub.status.busy": "2021-11-30T14:21:04.271596Z",
     "iopub.status.idle": "2021-11-30T14:21:04.274066Z",
     "shell.execute_reply": "2021-11-30T14:21:04.274670Z",
     "shell.execute_reply.started": "2021-11-30T13:23:51.328578Z"
    },
    "papermill": {
     "duration": 0.122509,
     "end_time": "2021-11-30T14:21:04.274874",
     "exception": false,
     "start_time": "2021-11-30T14:21:04.152365",
     "status": "completed"
    },
    "tags": []
   },
   "outputs": [],
   "source": [
    "Genetic_disorder=lab_enc1.inverse_transform(predict_y)"
   ]
  },
  {
   "cell_type": "code",
   "execution_count": 87,
   "id": "2c4731e2",
   "metadata": {
    "execution": {
     "iopub.execute_input": "2021-11-30T14:21:04.504191Z",
     "iopub.status.busy": "2021-11-30T14:21:04.503479Z",
     "iopub.status.idle": "2021-11-30T14:21:06.228590Z",
     "shell.execute_reply": "2021-11-30T14:21:06.229256Z",
     "shell.execute_reply.started": "2021-11-30T13:25:23.760921Z"
    },
    "papermill": {
     "duration": 1.842741,
     "end_time": "2021-11-30T14:21:06.229485",
     "exception": false,
     "start_time": "2021-11-30T14:21:04.386744",
     "status": "completed"
    },
    "tags": []
   },
   "outputs": [
    {
     "name": "stdout",
     "output_type": "stream",
     "text": [
      "The train f1_macro is: 0.7143007036282261\n"
     ]
    }
   ],
   "source": [
    "DT = DecisionTreeClassifier(max_depth=20,min_samples_leaf=10,random_state=42)\n",
    "DT.fit(result_kbest_20d,y2_enco)\n",
    "cal_clf = CalibratedClassifierCV(DT, method=\"sigmoid\")\n",
    "cal_clf.fit(result_kbest_20d,y2_enco)\n",
    "predict_y =cal_clf .predict(result_kbest_20d)\n",
    "print ('The train f1_macro is:',f1_score(y2_enco, predict_y,average='macro'))\n",
    "predict_yd = cal_clf.predict(result_kbest_test20)"
   ]
  },
  {
   "cell_type": "code",
   "execution_count": 88,
   "id": "4d66f845",
   "metadata": {
    "execution": {
     "iopub.execute_input": "2021-11-30T14:21:06.478259Z",
     "iopub.status.busy": "2021-11-30T14:21:06.477509Z",
     "iopub.status.idle": "2021-11-30T14:21:06.483001Z",
     "shell.execute_reply": "2021-11-30T14:21:06.483637Z",
     "shell.execute_reply.started": "2021-11-30T13:25:28.828171Z"
    },
    "papermill": {
     "duration": 0.131963,
     "end_time": "2021-11-30T14:21:06.483864",
     "exception": false,
     "start_time": "2021-11-30T14:21:06.351901",
     "status": "completed"
    },
    "tags": []
   },
   "outputs": [],
   "source": [
    "Disorder_Subclass=lab_enc2.inverse_transform(predict_yd)"
   ]
  },
  {
   "cell_type": "code",
   "execution_count": 89,
   "id": "a138b908",
   "metadata": {
    "execution": {
     "iopub.execute_input": "2021-11-30T14:21:06.726857Z",
     "iopub.status.busy": "2021-11-30T14:21:06.726098Z",
     "iopub.status.idle": "2021-11-30T14:21:06.763506Z",
     "shell.execute_reply": "2021-11-30T14:21:06.764150Z",
     "shell.execute_reply.started": "2021-11-30T13:27:01.956149Z"
    },
    "papermill": {
     "duration": 0.15979,
     "end_time": "2021-11-30T14:21:06.764399",
     "exception": false,
     "start_time": "2021-11-30T14:21:06.604609",
     "status": "completed"
    },
    "tags": []
   },
   "outputs": [],
   "source": [
    "data_fea_test1=data_test[data_test.isnull().all(1)!=True]"
   ]
  },
  {
   "cell_type": "code",
   "execution_count": 90,
   "id": "f6c73ecf",
   "metadata": {
    "execution": {
     "iopub.execute_input": "2021-11-30T14:21:07.016000Z",
     "iopub.status.busy": "2021-11-30T14:21:07.015234Z",
     "iopub.status.idle": "2021-11-30T14:21:07.062194Z",
     "shell.execute_reply": "2021-11-30T14:21:07.062840Z",
     "shell.execute_reply.started": "2021-11-30T13:28:28.817869Z"
    },
    "papermill": {
     "duration": 0.17469,
     "end_time": "2021-11-30T14:21:07.063047",
     "exception": false,
     "start_time": "2021-11-30T14:21:06.888357",
     "status": "completed"
    },
    "tags": []
   },
   "outputs": [],
   "source": [
    "ids=data_fea_test1['Patient Id']\n",
    "output=pd.DataFrame({'Patient Id': ids,'Genetic_Disorder':Genetic_disorder,'Disorder_Subclass':Disorder_Subclass})\n",
    "output.to_csv('submission.csv',index=False)"
   ]
  },
  {
   "cell_type": "code",
   "execution_count": null,
   "id": "c3063d97",
   "metadata": {
    "papermill": {
     "duration": 0.118385,
     "end_time": "2021-11-30T14:21:07.301496",
     "exception": false,
     "start_time": "2021-11-30T14:21:07.183111",
     "status": "completed"
    },
    "tags": []
   },
   "outputs": [],
   "source": []
  }
 ],
 "metadata": {
  "kernelspec": {
   "display_name": "Python 3",
   "language": "python",
   "name": "python3"
  },
  "language_info": {
   "codemirror_mode": {
    "name": "ipython",
    "version": 3
   },
   "file_extension": ".py",
   "mimetype": "text/x-python",
   "name": "python",
   "nbconvert_exporter": "python",
   "pygments_lexer": "ipython3",
   "version": "3.7.10"
  },
  "papermill": {
   "default_parameters": {},
   "duration": 3126.447888,
   "end_time": "2021-11-30T14:21:08.737580",
   "environment_variables": {},
   "exception": null,
   "input_path": "__notebook__.ipynb",
   "output_path": "__notebook__.ipynb",
   "parameters": {},
   "start_time": "2021-11-30T13:29:02.289692",
   "version": "2.3.3"
  }
 },
 "nbformat": 4,
 "nbformat_minor": 5
}
